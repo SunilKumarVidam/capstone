{
 "cells": [
  {
   "cell_type": "markdown",
   "metadata": {},
   "source": [
    "# DAB-402 Capstone Project\n",
    "## Title - Windsor House Rent Prediction\n",
    "## Group 7\n",
    "- Manoj Reddy Lenkala - 0753802\n",
    "- Naveen Kumar Tedla - 0753623\n",
    "- Sunil Kumar Vidam - 0735027"
   ]
  },
  {
   "cell_type": "markdown",
   "metadata": {},
   "source": [
    "### Libraries"
   ]
  },
  {
   "cell_type": "code",
   "execution_count": 1,
   "metadata": {},
   "outputs": [],
   "source": [
    "import pandas as pd\n",
    "import numpy as np\n",
    "import seaborn as sns\n",
    "import matplotlib.pyplot as plt"
   ]
  },
  {
   "cell_type": "markdown",
   "metadata": {},
   "source": [
    "### Importing Data"
   ]
  },
  {
   "cell_type": "code",
   "execution_count": 2,
   "metadata": {},
   "outputs": [],
   "source": [
    "df = pd.read_csv(\"dataset.csv\")"
   ]
  },
  {
   "cell_type": "markdown",
   "metadata": {},
   "source": [
    "### EDA"
   ]
  },
  {
   "cell_type": "code",
   "execution_count": 3,
   "metadata": {},
   "outputs": [
    {
     "data": {
      "text/plain": [
       "(837, 26)"
      ]
     },
     "execution_count": 3,
     "metadata": {},
     "output_type": "execute_result"
    }
   ],
   "source": [
    "df.shape"
   ]
  },
  {
   "cell_type": "markdown",
   "metadata": {},
   "source": [
    "#### Data Variable Types and Statistics"
   ]
  },
  {
   "cell_type": "code",
   "execution_count": 4,
   "metadata": {},
   "outputs": [
    {
     "name": "stdout",
     "output_type": "stream",
     "text": [
      "<class 'pandas.core.frame.DataFrame'>\n",
      "RangeIndex: 837 entries, 0 to 836\n",
      "Data columns (total 26 columns):\n",
      " #   Column                  Non-Null Count  Dtype  \n",
      "---  ------                  --------------  -----  \n",
      " 0   Ad_Id                   837 non-null    object \n",
      " 1   House_Type              837 non-null    object \n",
      " 2   Bedrooms                837 non-null    object \n",
      " 3   Bathrooms               837 non-null    float64\n",
      " 4   Hydro                   837 non-null    object \n",
      " 5   Heat                    837 non-null    object \n",
      " 6   Water                   837 non-null    object \n",
      " 7   Parking                 837 non-null    int64  \n",
      " 8   Pet_Friendly            837 non-null    object \n",
      " 9   Air_Conditioning        837 non-null    object \n",
      " 10  Smoking                 837 non-null    object \n",
      " 11  Laundry                 837 non-null    object \n",
      " 12  Dishwasher              837 non-null    object \n",
      " 13  Fridge                  837 non-null    object \n",
      " 14  Furnished               837 non-null    object \n",
      " 15  Gym                     837 non-null    object \n",
      " 16  Pool                    837 non-null    object \n",
      " 17  24_Hour_Security        837 non-null    object \n",
      " 18  Bicycle_Parking         837 non-null    object \n",
      " 19  Storage_Space           837 non-null    object \n",
      " 20  Elevator_in_Building    837 non-null    object \n",
      " 21  Personal_Outdoor_Space  837 non-null    object \n",
      " 22  Agreement               837 non-null    object \n",
      " 23  Region                  837 non-null    object \n",
      " 24  Size                    692 non-null    float64\n",
      " 25  Rent                    777 non-null    float64\n",
      "dtypes: float64(3), int64(1), object(22)\n",
      "memory usage: 170.1+ KB\n"
     ]
    }
   ],
   "source": [
    "df.info()"
   ]
  },
  {
   "cell_type": "code",
   "execution_count": 5,
   "metadata": {},
   "outputs": [
    {
     "data": {
      "text/html": [
       "<div>\n",
       "<style scoped>\n",
       "    .dataframe tbody tr th:only-of-type {\n",
       "        vertical-align: middle;\n",
       "    }\n",
       "\n",
       "    .dataframe tbody tr th {\n",
       "        vertical-align: top;\n",
       "    }\n",
       "\n",
       "    .dataframe thead th {\n",
       "        text-align: right;\n",
       "    }\n",
       "</style>\n",
       "<table border=\"1\" class=\"dataframe\">\n",
       "  <thead>\n",
       "    <tr style=\"text-align: right;\">\n",
       "      <th></th>\n",
       "      <th>Bathrooms</th>\n",
       "      <th>Parking</th>\n",
       "      <th>Size</th>\n",
       "      <th>Rent</th>\n",
       "    </tr>\n",
       "  </thead>\n",
       "  <tbody>\n",
       "    <tr>\n",
       "      <th>count</th>\n",
       "      <td>837.000000</td>\n",
       "      <td>837.000000</td>\n",
       "      <td>692.000000</td>\n",
       "      <td>777.000000</td>\n",
       "    </tr>\n",
       "    <tr>\n",
       "      <th>mean</th>\n",
       "      <td>1.278375</td>\n",
       "      <td>1.029869</td>\n",
       "      <td>1050.575145</td>\n",
       "      <td>1396.526384</td>\n",
       "    </tr>\n",
       "    <tr>\n",
       "      <th>std</th>\n",
       "      <td>0.510229</td>\n",
       "      <td>0.963604</td>\n",
       "      <td>810.498563</td>\n",
       "      <td>451.836048</td>\n",
       "    </tr>\n",
       "    <tr>\n",
       "      <th>min</th>\n",
       "      <td>1.000000</td>\n",
       "      <td>0.000000</td>\n",
       "      <td>1.000000</td>\n",
       "      <td>65.000000</td>\n",
       "    </tr>\n",
       "    <tr>\n",
       "      <th>25%</th>\n",
       "      <td>1.000000</td>\n",
       "      <td>0.000000</td>\n",
       "      <td>700.000000</td>\n",
       "      <td>1075.000000</td>\n",
       "    </tr>\n",
       "    <tr>\n",
       "      <th>50%</th>\n",
       "      <td>1.000000</td>\n",
       "      <td>1.000000</td>\n",
       "      <td>1000.000000</td>\n",
       "      <td>1324.000000</td>\n",
       "    </tr>\n",
       "    <tr>\n",
       "      <th>75%</th>\n",
       "      <td>1.500000</td>\n",
       "      <td>1.000000</td>\n",
       "      <td>1234.000000</td>\n",
       "      <td>1700.000000</td>\n",
       "    </tr>\n",
       "    <tr>\n",
       "      <th>max</th>\n",
       "      <td>5.000000</td>\n",
       "      <td>3.000000</td>\n",
       "      <td>12345.000000</td>\n",
       "      <td>3000.000000</td>\n",
       "    </tr>\n",
       "  </tbody>\n",
       "</table>\n",
       "</div>"
      ],
      "text/plain": [
       "        Bathrooms     Parking          Size         Rent\n",
       "count  837.000000  837.000000    692.000000   777.000000\n",
       "mean     1.278375    1.029869   1050.575145  1396.526384\n",
       "std      0.510229    0.963604    810.498563   451.836048\n",
       "min      1.000000    0.000000      1.000000    65.000000\n",
       "25%      1.000000    0.000000    700.000000  1075.000000\n",
       "50%      1.000000    1.000000   1000.000000  1324.000000\n",
       "75%      1.500000    1.000000   1234.000000  1700.000000\n",
       "max      5.000000    3.000000  12345.000000  3000.000000"
      ]
     },
     "execution_count": 5,
     "metadata": {},
     "output_type": "execute_result"
    }
   ],
   "source": [
    "df.describe()"
   ]
  },
  {
   "cell_type": "code",
   "execution_count": 6,
   "metadata": {},
   "outputs": [
    {
     "data": {
      "text/html": [
       "<div>\n",
       "<style scoped>\n",
       "    .dataframe tbody tr th:only-of-type {\n",
       "        vertical-align: middle;\n",
       "    }\n",
       "\n",
       "    .dataframe tbody tr th {\n",
       "        vertical-align: top;\n",
       "    }\n",
       "\n",
       "    .dataframe thead th {\n",
       "        text-align: right;\n",
       "    }\n",
       "</style>\n",
       "<table border=\"1\" class=\"dataframe\">\n",
       "  <thead>\n",
       "    <tr style=\"text-align: right;\">\n",
       "      <th></th>\n",
       "      <th>Ad_Id</th>\n",
       "      <th>House_Type</th>\n",
       "      <th>Bedrooms</th>\n",
       "      <th>Bathrooms</th>\n",
       "      <th>Hydro</th>\n",
       "      <th>Heat</th>\n",
       "      <th>Water</th>\n",
       "      <th>Parking</th>\n",
       "      <th>Pet_Friendly</th>\n",
       "      <th>Air_Conditioning</th>\n",
       "      <th>...</th>\n",
       "      <th>Pool</th>\n",
       "      <th>24_Hour_Security</th>\n",
       "      <th>Bicycle_Parking</th>\n",
       "      <th>Storage_Space</th>\n",
       "      <th>Elevator_in_Building</th>\n",
       "      <th>Personal_Outdoor_Space</th>\n",
       "      <th>Agreement</th>\n",
       "      <th>Region</th>\n",
       "      <th>Size</th>\n",
       "      <th>Rent</th>\n",
       "    </tr>\n",
       "  </thead>\n",
       "  <tbody>\n",
       "    <tr>\n",
       "      <th>0</th>\n",
       "      <td>Ad ID 1480250241</td>\n",
       "      <td>House</td>\n",
       "      <td>4</td>\n",
       "      <td>2.0</td>\n",
       "      <td>Yes</td>\n",
       "      <td>Yes</td>\n",
       "      <td>Yes</td>\n",
       "      <td>2</td>\n",
       "      <td>Yes</td>\n",
       "      <td>Yes</td>\n",
       "      <td>...</td>\n",
       "      <td>Not Included</td>\n",
       "      <td>Not Included</td>\n",
       "      <td>Not Included</td>\n",
       "      <td>Not Included</td>\n",
       "      <td>Not Included</td>\n",
       "      <td>Yard</td>\n",
       "      <td>1 Year</td>\n",
       "      <td>Windsor University South Cameron</td>\n",
       "      <td>2000.0</td>\n",
       "      <td>535.0</td>\n",
       "    </tr>\n",
       "    <tr>\n",
       "      <th>1</th>\n",
       "      <td>Ad ID 1480253104</td>\n",
       "      <td>House</td>\n",
       "      <td>5+</td>\n",
       "      <td>2.0</td>\n",
       "      <td>Yes</td>\n",
       "      <td>Yes</td>\n",
       "      <td>Yes</td>\n",
       "      <td>2</td>\n",
       "      <td>Yes</td>\n",
       "      <td>Yes</td>\n",
       "      <td>...</td>\n",
       "      <td>Not Included</td>\n",
       "      <td>Not Included</td>\n",
       "      <td>Not Included</td>\n",
       "      <td>Not Included</td>\n",
       "      <td>Not Included</td>\n",
       "      <td>Yard</td>\n",
       "      <td>1 Year</td>\n",
       "      <td>Windsor University South Cameron</td>\n",
       "      <td>2000.0</td>\n",
       "      <td>535.0</td>\n",
       "    </tr>\n",
       "    <tr>\n",
       "      <th>2</th>\n",
       "      <td>Ad ID 1482582882</td>\n",
       "      <td>Apartment</td>\n",
       "      <td>1</td>\n",
       "      <td>1.0</td>\n",
       "      <td>Yes</td>\n",
       "      <td>Yes</td>\n",
       "      <td>Yes</td>\n",
       "      <td>0</td>\n",
       "      <td>Yes</td>\n",
       "      <td>No</td>\n",
       "      <td>...</td>\n",
       "      <td>Not Included</td>\n",
       "      <td>Not Included</td>\n",
       "      <td>Not Included</td>\n",
       "      <td>Not Included</td>\n",
       "      <td>Yes</td>\n",
       "      <td>Balcony</td>\n",
       "      <td>1 Year</td>\n",
       "      <td>Windsor City Centre NW Walkerville</td>\n",
       "      <td>1.0</td>\n",
       "      <td>1075.0</td>\n",
       "    </tr>\n",
       "    <tr>\n",
       "      <th>3</th>\n",
       "      <td>Ad ID 1483543244</td>\n",
       "      <td>Apartment</td>\n",
       "      <td>1</td>\n",
       "      <td>1.0</td>\n",
       "      <td>No</td>\n",
       "      <td>Yes</td>\n",
       "      <td>Yes</td>\n",
       "      <td>1</td>\n",
       "      <td>Limited</td>\n",
       "      <td>No</td>\n",
       "      <td>...</td>\n",
       "      <td>Not Included</td>\n",
       "      <td>Not Included</td>\n",
       "      <td>Not Included</td>\n",
       "      <td>Not Included</td>\n",
       "      <td>Not Included</td>\n",
       "      <td>Balcony</td>\n",
       "      <td>1 Year</td>\n",
       "      <td>Windsor East East Walkerville</td>\n",
       "      <td>600.0</td>\n",
       "      <td>995.0</td>\n",
       "    </tr>\n",
       "    <tr>\n",
       "      <th>4</th>\n",
       "      <td>Ad ID 1488927026</td>\n",
       "      <td>House</td>\n",
       "      <td>5+</td>\n",
       "      <td>2.0</td>\n",
       "      <td>No</td>\n",
       "      <td>No</td>\n",
       "      <td>No</td>\n",
       "      <td>0</td>\n",
       "      <td>No</td>\n",
       "      <td>No</td>\n",
       "      <td>...</td>\n",
       "      <td>Not Included</td>\n",
       "      <td>Not Included</td>\n",
       "      <td>Not Included</td>\n",
       "      <td>Not Included</td>\n",
       "      <td>Not Included</td>\n",
       "      <td>Yard</td>\n",
       "      <td>1 Year</td>\n",
       "      <td>Windsor University South Cameron</td>\n",
       "      <td>1500.0</td>\n",
       "      <td>1000.0</td>\n",
       "    </tr>\n",
       "  </tbody>\n",
       "</table>\n",
       "<p>5 rows × 26 columns</p>\n",
       "</div>"
      ],
      "text/plain": [
       "              Ad_Id House_Type Bedrooms  Bathrooms Hydro Heat Water  Parking  \\\n",
       "0  Ad ID 1480250241      House        4        2.0   Yes  Yes   Yes        2   \n",
       "1  Ad ID 1480253104      House       5+        2.0   Yes  Yes   Yes        2   \n",
       "2  Ad ID 1482582882  Apartment        1        1.0   Yes  Yes   Yes        0   \n",
       "3  Ad ID 1483543244  Apartment        1        1.0    No  Yes   Yes        1   \n",
       "4  Ad ID 1488927026      House       5+        2.0    No   No    No        0   \n",
       "\n",
       "  Pet_Friendly Air_Conditioning  ...          Pool 24_Hour_Security  \\\n",
       "0          Yes              Yes  ...  Not Included     Not Included   \n",
       "1          Yes              Yes  ...  Not Included     Not Included   \n",
       "2          Yes               No  ...  Not Included     Not Included   \n",
       "3      Limited               No  ...  Not Included     Not Included   \n",
       "4           No               No  ...  Not Included     Not Included   \n",
       "\n",
       "  Bicycle_Parking Storage_Space Elevator_in_Building Personal_Outdoor_Space  \\\n",
       "0    Not Included  Not Included         Not Included                   Yard   \n",
       "1    Not Included  Not Included         Not Included                   Yard   \n",
       "2    Not Included  Not Included                  Yes                Balcony   \n",
       "3    Not Included  Not Included         Not Included                Balcony   \n",
       "4    Not Included  Not Included         Not Included                   Yard   \n",
       "\n",
       "  Agreement                              Region    Size    Rent  \n",
       "0    1 Year    Windsor University South Cameron  2000.0   535.0  \n",
       "1    1 Year    Windsor University South Cameron  2000.0   535.0  \n",
       "2    1 Year  Windsor City Centre NW Walkerville     1.0  1075.0  \n",
       "3    1 Year       Windsor East East Walkerville   600.0   995.0  \n",
       "4    1 Year    Windsor University South Cameron  1500.0  1000.0  \n",
       "\n",
       "[5 rows x 26 columns]"
      ]
     },
     "execution_count": 6,
     "metadata": {},
     "output_type": "execute_result"
    }
   ],
   "source": [
    "df.head()"
   ]
  },
  {
   "cell_type": "markdown",
   "metadata": {},
   "source": [
    "#### Checking and Handling Null Values"
   ]
  },
  {
   "cell_type": "code",
   "execution_count": 7,
   "metadata": {},
   "outputs": [
    {
     "data": {
      "text/plain": [
       "Ad_Id                     False\n",
       "House_Type                False\n",
       "Bedrooms                  False\n",
       "Bathrooms                 False\n",
       "Hydro                     False\n",
       "Heat                      False\n",
       "Water                     False\n",
       "Parking                   False\n",
       "Pet_Friendly              False\n",
       "Air_Conditioning          False\n",
       "Smoking                   False\n",
       "Laundry                   False\n",
       "Dishwasher                False\n",
       "Fridge                    False\n",
       "Furnished                 False\n",
       "Gym                       False\n",
       "Pool                      False\n",
       "24_Hour_Security          False\n",
       "Bicycle_Parking           False\n",
       "Storage_Space             False\n",
       "Elevator_in_Building      False\n",
       "Personal_Outdoor_Space    False\n",
       "Agreement                 False\n",
       "Region                    False\n",
       "Size                       True\n",
       "Rent                       True\n",
       "dtype: bool"
      ]
     },
     "execution_count": 7,
     "metadata": {},
     "output_type": "execute_result"
    }
   ],
   "source": [
    "df.isnull().any()"
   ]
  },
  {
   "cell_type": "code",
   "execution_count": 8,
   "metadata": {},
   "outputs": [
    {
     "data": {
      "text/plain": [
       "Ad_Id                       0\n",
       "House_Type                  0\n",
       "Bedrooms                    0\n",
       "Bathrooms                   0\n",
       "Hydro                       0\n",
       "Heat                        0\n",
       "Water                       0\n",
       "Parking                     0\n",
       "Pet_Friendly                0\n",
       "Air_Conditioning            0\n",
       "Smoking                     0\n",
       "Laundry                     0\n",
       "Dishwasher                  0\n",
       "Fridge                      0\n",
       "Furnished                   0\n",
       "Gym                         0\n",
       "Pool                        0\n",
       "24_Hour_Security            0\n",
       "Bicycle_Parking             0\n",
       "Storage_Space               0\n",
       "Elevator_in_Building        0\n",
       "Personal_Outdoor_Space      0\n",
       "Agreement                   0\n",
       "Region                      0\n",
       "Size                      145\n",
       "Rent                       60\n",
       "dtype: int64"
      ]
     },
     "execution_count": 8,
     "metadata": {},
     "output_type": "execute_result"
    }
   ],
   "source": [
    "df.isnull().sum()"
   ]
  },
  {
   "cell_type": "code",
   "execution_count": 9,
   "metadata": {},
   "outputs": [
    {
     "data": {
      "text/plain": [
       "<matplotlib.axes._subplots.AxesSubplot at 0x1ddca57c408>"
      ]
     },
     "execution_count": 9,
     "metadata": {},
     "output_type": "execute_result"
    },
    {
     "data": {
      "image/png": "[encoded data removed]",
      "text/plain": [
       "<Figure size 720x432 with 1 Axes>"
      ]
     },
     "metadata": {
      "needs_background": "light"
     },
     "output_type": "display_data"
    }
   ],
   "source": [
    "plt.figure(figsize=(10,6))\n",
    "sns.boxplot(data=df,fliersize=3)"
   ]
  },
  {
   "cell_type": "code",
   "execution_count": 10,
   "metadata": {},
   "outputs": [
    {
     "data": {
      "text/html": [
       "<div>\n",
       "<style scoped>\n",
       "    .dataframe tbody tr th:only-of-type {\n",
       "        vertical-align: middle;\n",
       "    }\n",
       "\n",
       "    .dataframe tbody tr th {\n",
       "        vertical-align: top;\n",
       "    }\n",
       "\n",
       "    .dataframe thead th {\n",
       "        text-align: right;\n",
       "    }\n",
       "</style>\n",
       "<table border=\"1\" class=\"dataframe\">\n",
       "  <thead>\n",
       "    <tr style=\"text-align: right;\">\n",
       "      <th></th>\n",
       "      <th></th>\n",
       "      <th>Rent</th>\n",
       "      <th>Size</th>\n",
       "    </tr>\n",
       "    <tr>\n",
       "      <th>House_Type</th>\n",
       "      <th>Bedrooms</th>\n",
       "      <th></th>\n",
       "      <th></th>\n",
       "    </tr>\n",
       "  </thead>\n",
       "  <tbody>\n",
       "    <tr>\n",
       "      <th rowspan=\"8\" valign=\"top\">Apartment</th>\n",
       "      <th>1</th>\n",
       "      <td>1070.0</td>\n",
       "      <td>656.0</td>\n",
       "    </tr>\n",
       "    <tr>\n",
       "      <th>1 + Den</th>\n",
       "      <td>1175.0</td>\n",
       "      <td>733.0</td>\n",
       "    </tr>\n",
       "    <tr>\n",
       "      <th>2</th>\n",
       "      <td>1259.0</td>\n",
       "      <td>820.0</td>\n",
       "    </tr>\n",
       "    <tr>\n",
       "      <th>2 + Den</th>\n",
       "      <td>1450.0</td>\n",
       "      <td>925.0</td>\n",
       "    </tr>\n",
       "    <tr>\n",
       "      <th>3</th>\n",
       "      <td>1466.0</td>\n",
       "      <td>1131.0</td>\n",
       "    </tr>\n",
       "    <tr>\n",
       "      <th>4</th>\n",
       "      <td>1850.0</td>\n",
       "      <td>1400.0</td>\n",
       "    </tr>\n",
       "    <tr>\n",
       "      <th>5+</th>\n",
       "      <td>1800.0</td>\n",
       "      <td>NaN</td>\n",
       "    </tr>\n",
       "    <tr>\n",
       "      <th>Bachelor/Studio</th>\n",
       "      <td>831.0</td>\n",
       "      <td>493.0</td>\n",
       "    </tr>\n",
       "    <tr>\n",
       "      <th rowspan=\"6\" valign=\"top\">Basement</th>\n",
       "      <th>1</th>\n",
       "      <td>1145.0</td>\n",
       "      <td>693.0</td>\n",
       "    </tr>\n",
       "    <tr>\n",
       "      <th>1 + Den</th>\n",
       "      <td>1067.0</td>\n",
       "      <td>680.0</td>\n",
       "    </tr>\n",
       "    <tr>\n",
       "      <th>2</th>\n",
       "      <td>1377.0</td>\n",
       "      <td>1240.0</td>\n",
       "    </tr>\n",
       "    <tr>\n",
       "      <th>2 + Den</th>\n",
       "      <td>1412.0</td>\n",
       "      <td>1238.0</td>\n",
       "    </tr>\n",
       "    <tr>\n",
       "      <th>3</th>\n",
       "      <td>1667.0</td>\n",
       "      <td>1367.0</td>\n",
       "    </tr>\n",
       "    <tr>\n",
       "      <th>Bachelor/Studio</th>\n",
       "      <td>620.0</td>\n",
       "      <td>300.0</td>\n",
       "    </tr>\n",
       "    <tr>\n",
       "      <th rowspan=\"4\" valign=\"top\">Condo</th>\n",
       "      <th>1</th>\n",
       "      <td>1479.0</td>\n",
       "      <td>671.0</td>\n",
       "    </tr>\n",
       "    <tr>\n",
       "      <th>2</th>\n",
       "      <td>1900.0</td>\n",
       "      <td>1005.0</td>\n",
       "    </tr>\n",
       "    <tr>\n",
       "      <th>2 + Den</th>\n",
       "      <td>1950.0</td>\n",
       "      <td>931.0</td>\n",
       "    </tr>\n",
       "    <tr>\n",
       "      <th>Bachelor/Studio</th>\n",
       "      <td>893.0</td>\n",
       "      <td>446.0</td>\n",
       "    </tr>\n",
       "    <tr>\n",
       "      <th rowspan=\"8\" valign=\"top\">Duplex/Triplex</th>\n",
       "      <th>1</th>\n",
       "      <td>1030.0</td>\n",
       "      <td>219.0</td>\n",
       "    </tr>\n",
       "    <tr>\n",
       "      <th>1 + Den</th>\n",
       "      <td>927.0</td>\n",
       "      <td>525.0</td>\n",
       "    </tr>\n",
       "    <tr>\n",
       "      <th>2</th>\n",
       "      <td>1343.0</td>\n",
       "      <td>798.0</td>\n",
       "    </tr>\n",
       "    <tr>\n",
       "      <th>2 + Den</th>\n",
       "      <td>1454.0</td>\n",
       "      <td>1148.0</td>\n",
       "    </tr>\n",
       "    <tr>\n",
       "      <th>3</th>\n",
       "      <td>1459.0</td>\n",
       "      <td>983.0</td>\n",
       "    </tr>\n",
       "    <tr>\n",
       "      <th>3 + Den</th>\n",
       "      <td>1457.0</td>\n",
       "      <td>834.0</td>\n",
       "    </tr>\n",
       "    <tr>\n",
       "      <th>4</th>\n",
       "      <td>1662.0</td>\n",
       "      <td>1112.0</td>\n",
       "    </tr>\n",
       "    <tr>\n",
       "      <th>4 + Den</th>\n",
       "      <td>1900.0</td>\n",
       "      <td>1200.0</td>\n",
       "    </tr>\n",
       "    <tr>\n",
       "      <th rowspan=\"10\" valign=\"top\">House</th>\n",
       "      <th>1</th>\n",
       "      <td>742.0</td>\n",
       "      <td>632.0</td>\n",
       "    </tr>\n",
       "    <tr>\n",
       "      <th>1 + Den</th>\n",
       "      <td>950.0</td>\n",
       "      <td>500.0</td>\n",
       "    </tr>\n",
       "    <tr>\n",
       "      <th>2</th>\n",
       "      <td>1451.0</td>\n",
       "      <td>992.0</td>\n",
       "    </tr>\n",
       "    <tr>\n",
       "      <th>2 + Den</th>\n",
       "      <td>1457.0</td>\n",
       "      <td>984.0</td>\n",
       "    </tr>\n",
       "    <tr>\n",
       "      <th>3</th>\n",
       "      <td>1720.0</td>\n",
       "      <td>1440.0</td>\n",
       "    </tr>\n",
       "    <tr>\n",
       "      <th>3 + Den</th>\n",
       "      <td>1869.0</td>\n",
       "      <td>1389.0</td>\n",
       "    </tr>\n",
       "    <tr>\n",
       "      <th>4</th>\n",
       "      <td>1861.0</td>\n",
       "      <td>1980.0</td>\n",
       "    </tr>\n",
       "    <tr>\n",
       "      <th>4 + Den</th>\n",
       "      <td>1938.0</td>\n",
       "      <td>734.0</td>\n",
       "    </tr>\n",
       "    <tr>\n",
       "      <th>5+</th>\n",
       "      <td>1641.0</td>\n",
       "      <td>1774.0</td>\n",
       "    </tr>\n",
       "    <tr>\n",
       "      <th>Bachelor/Studio</th>\n",
       "      <td>1200.0</td>\n",
       "      <td>350.0</td>\n",
       "    </tr>\n",
       "    <tr>\n",
       "      <th rowspan=\"6\" valign=\"top\">Townhouse</th>\n",
       "      <th>2</th>\n",
       "      <td>1505.0</td>\n",
       "      <td>1093.0</td>\n",
       "    </tr>\n",
       "    <tr>\n",
       "      <th>2 + Den</th>\n",
       "      <td>2400.0</td>\n",
       "      <td>1300.0</td>\n",
       "    </tr>\n",
       "    <tr>\n",
       "      <th>3</th>\n",
       "      <td>2059.0</td>\n",
       "      <td>1068.0</td>\n",
       "    </tr>\n",
       "    <tr>\n",
       "      <th>3 + Den</th>\n",
       "      <td>2050.0</td>\n",
       "      <td>1300.0</td>\n",
       "    </tr>\n",
       "    <tr>\n",
       "      <th>4 + Den</th>\n",
       "      <td>NaN</td>\n",
       "      <td>1450.0</td>\n",
       "    </tr>\n",
       "    <tr>\n",
       "      <th>5+</th>\n",
       "      <td>3000.0</td>\n",
       "      <td>2800.0</td>\n",
       "    </tr>\n",
       "  </tbody>\n",
       "</table>\n",
       "</div>"
      ],
      "text/plain": [
       "                                  Rent    Size\n",
       "House_Type     Bedrooms                       \n",
       "Apartment      1                1070.0   656.0\n",
       "               1 + Den          1175.0   733.0\n",
       "               2                1259.0   820.0\n",
       "               2 + Den          1450.0   925.0\n",
       "               3                1466.0  1131.0\n",
       "               4                1850.0  1400.0\n",
       "               5+               1800.0     NaN\n",
       "               Bachelor/Studio   831.0   493.0\n",
       "Basement       1                1145.0   693.0\n",
       "               1 + Den          1067.0   680.0\n",
       "               2                1377.0  1240.0\n",
       "               2 + Den          1412.0  1238.0\n",
       "               3                1667.0  1367.0\n",
       "               Bachelor/Studio   620.0   300.0\n",
       "Condo          1                1479.0   671.0\n",
       "               2                1900.0  1005.0\n",
       "               2 + Den          1950.0   931.0\n",
       "               Bachelor/Studio   893.0   446.0\n",
       "Duplex/Triplex 1                1030.0   219.0\n",
       "               1 + Den           927.0   525.0\n",
       "               2                1343.0   798.0\n",
       "               2 + Den          1454.0  1148.0\n",
       "               3                1459.0   983.0\n",
       "               3 + Den          1457.0   834.0\n",
       "               4                1662.0  1112.0\n",
       "               4 + Den          1900.0  1200.0\n",
       "House          1                 742.0   632.0\n",
       "               1 + Den           950.0   500.0\n",
       "               2                1451.0   992.0\n",
       "               2 + Den          1457.0   984.0\n",
       "               3                1720.0  1440.0\n",
       "               3 + Den          1869.0  1389.0\n",
       "               4                1861.0  1980.0\n",
       "               4 + Den          1938.0   734.0\n",
       "               5+               1641.0  1774.0\n",
       "               Bachelor/Studio  1200.0   350.0\n",
       "Townhouse      2                1505.0  1093.0\n",
       "               2 + Den          2400.0  1300.0\n",
       "               3                2059.0  1068.0\n",
       "               3 + Den          2050.0  1300.0\n",
       "               4 + Den             NaN  1450.0\n",
       "               5+               3000.0  2800.0"
      ]
     },
     "execution_count": 10,
     "metadata": {},
     "output_type": "execute_result"
    }
   ],
   "source": [
    "df.groupby(['House_Type','Bedrooms']).agg({'Rent':'mean','Size':'mean'}).round()"
   ]
  },
  {
   "cell_type": "code",
   "execution_count": 11,
   "metadata": {},
   "outputs": [],
   "source": [
    "df['Size'] = df['Size'].apply(lambda x: np.nan if x<=100 or x>10000 else x)"
   ]
  },
  {
   "cell_type": "code",
   "execution_count": 12,
   "metadata": {},
   "outputs": [],
   "source": [
    "# Ref: https://towardsdatascience.com/data-grouping-in-python-d64f1203f8d3\n",
    "\n",
    "df['Average_Rent'] = df.groupby(['House_Type','Bedrooms','Bathrooms']).Rent.transform('mean').round()\n",
    "df['Average_Size'] = df.groupby(['House_Type','Bedrooms','Bathrooms']).Size.transform('mean').round()\n",
    "df['Average_Size_House_Type'] = df.groupby(['House_Type']).Size.transform('mean').round()"
   ]
  },
  {
   "cell_type": "code",
   "execution_count": 13,
   "metadata": {},
   "outputs": [],
   "source": [
    "df['Rent'] = df['Rent'].fillna(df['Average_Rent'])\n",
    "df['Rent'] = df['Rent'].fillna(df['Rent'].mean())\n",
    "df['Size'] = df['Size'].fillna(df['Average_Size'])\n",
    "df['Size'] = df['Size'].fillna(df['Average_Size_House_Type'])"
   ]
  },
  {
   "cell_type": "code",
   "execution_count": 14,
   "metadata": {},
   "outputs": [],
   "source": [
    "df = df.drop(['Average_Rent', 'Average_Size', 'Average_Size_House_Type'], axis = 1)"
   ]
  },
  {
   "cell_type": "code",
   "execution_count": 15,
   "metadata": {},
   "outputs": [
    {
     "data": {
      "text/plain": [
       "Ad_Id                     False\n",
       "House_Type                False\n",
       "Bedrooms                  False\n",
       "Bathrooms                 False\n",
       "Hydro                     False\n",
       "Heat                      False\n",
       "Water                     False\n",
       "Parking                   False\n",
       "Pet_Friendly              False\n",
       "Air_Conditioning          False\n",
       "Smoking                   False\n",
       "Laundry                   False\n",
       "Dishwasher                False\n",
       "Fridge                    False\n",
       "Furnished                 False\n",
       "Gym                       False\n",
       "Pool                      False\n",
       "24_Hour_Security          False\n",
       "Bicycle_Parking           False\n",
       "Storage_Space             False\n",
       "Elevator_in_Building      False\n",
       "Personal_Outdoor_Space    False\n",
       "Agreement                 False\n",
       "Region                    False\n",
       "Size                      False\n",
       "Rent                      False\n",
       "dtype: bool"
      ]
     },
     "execution_count": 15,
     "metadata": {},
     "output_type": "execute_result"
    }
   ],
   "source": [
    "df.isnull().any()"
   ]
  },
  {
   "cell_type": "markdown",
   "metadata": {},
   "source": [
    "#### Plots on Rent"
   ]
  },
  {
   "cell_type": "code",
   "execution_count": 16,
   "metadata": {},
   "outputs": [
    {
     "name": "stderr",
     "output_type": "stream",
     "text": [
      "C:\\Users\\Sunil Kumar\\anaconda3\\envs\\DAB300F20\\lib\\site-packages\\seaborn\\distributions.py:2551: FutureWarning: `distplot` is a deprecated function and will be removed in a future version. Please adapt your code to use either `displot` (a figure-level function with similar flexibility) or `histplot` (an axes-level function for histograms).\n",
      "  warnings.warn(msg, FutureWarning)\n"
     ]
    },
    {
     "data": {
      "image/png": "[encoded data removed]",
      "text/plain": [
       "<Figure size 432x288 with 1 Axes>"
      ]
     },
     "metadata": {
      "needs_background": "light"
     },
     "output_type": "display_data"
    }
   ],
   "source": [
    "from scipy.stats import norm\n",
    "\n",
    "ax = sns.distplot(df['Rent'], fit = norm, kde = False, color = 'g')"
   ]
  },
  {
   "cell_type": "code",
   "execution_count": 17,
   "metadata": {},
   "outputs": [
    {
     "data": {
      "image/png": "[encoded data removed]",
      "text/plain": [
       "<Figure size 432x288 with 1 Axes>"
      ]
     },
     "metadata": {
      "needs_background": "light"
     },
     "output_type": "display_data"
    }
   ],
   "source": [
    "plt.scatter(df['Rent'], df['Size'])\n",
    "plt.plot([0, max(df['Rent'])], [0, max(df['Size'])], color='gray', lw=1, linestyle='--')\n",
    "\n",
    "plt.xlabel('Rent')\n",
    "plt.ylabel('Size')\n",
    "plt.title('Rent vs Size')\n",
    "plt.grid()\n",
    "\n",
    "plt.show()"
   ]
  },
  {
   "cell_type": "code",
   "execution_count": 18,
   "metadata": {},
   "outputs": [
    {
     "data": {
      "text/plain": [
       "Region\n",
       "Windsor South Central West Walkerville Remington P    1241.736264\n",
       "Windsor University South Cameron                      1334.358491\n",
       "Windsor Riverside                                     1341.566038\n",
       "Windsor City Centre NW Walkerville                    1354.349282\n",
       "Windsor Sandwich Ojibway West Malden                  1370.639396\n",
       "Windsor East East Walkerville                         1413.202703\n",
       "Windsor West Forest Glade East Fontainbleu            1418.171429\n",
       "Windsor South Walkerville West Fontainbleu Walker     1564.138889\n",
       "Windsor South East Malden                             1569.529412\n",
       "Windsor East Forest Glade                             1627.083333\n",
       "Windsor Roseland                                      1860.357143\n",
       "Windsor East Riverside                                2038.249401\n",
       "Name: Rent, dtype: float64"
      ]
     },
     "execution_count": 18,
     "metadata": {},
     "output_type": "execute_result"
    }
   ],
   "source": [
    "df.groupby(['Region'])['Rent'].mean().sort_values()"
   ]
  },
  {
   "cell_type": "code",
   "execution_count": 19,
   "metadata": {},
   "outputs": [
    {
     "data": {
      "text/plain": [
       "1.0    605\n",
       "2.0    156\n",
       "1.5     50\n",
       "3.0     16\n",
       "2.5      8\n",
       "5.0      2\n",
       "Name: Bathrooms, dtype: int64"
      ]
     },
     "execution_count": 19,
     "metadata": {},
     "output_type": "execute_result"
    }
   ],
   "source": [
    "df['Bathrooms'].value_counts()"
   ]
  },
  {
   "cell_type": "markdown",
   "metadata": {},
   "source": [
    "#### Checking and Handling Duplicate Values"
   ]
  },
  {
   "cell_type": "code",
   "execution_count": 20,
   "metadata": {},
   "outputs": [],
   "source": [
    "df = df.drop(['Ad_Id'], axis = 1)"
   ]
  },
  {
   "cell_type": "code",
   "execution_count": 21,
   "metadata": {},
   "outputs": [
    {
     "data": {
      "text/plain": [
       "(837, 25)"
      ]
     },
     "execution_count": 21,
     "metadata": {},
     "output_type": "execute_result"
    }
   ],
   "source": [
    "df.shape"
   ]
  },
  {
   "cell_type": "code",
   "execution_count": 22,
   "metadata": {},
   "outputs": [
    {
     "data": {
      "text/plain": [
       "37"
      ]
     },
     "execution_count": 22,
     "metadata": {},
     "output_type": "execute_result"
    }
   ],
   "source": [
    "df.duplicated().sum() "
   ]
  },
  {
   "cell_type": "code",
   "execution_count": 23,
   "metadata": {},
   "outputs": [],
   "source": [
    "df.drop_duplicates(inplace=True)"
   ]
  },
  {
   "cell_type": "code",
   "execution_count": 24,
   "metadata": {},
   "outputs": [
    {
     "data": {
      "text/plain": [
       "(800, 25)"
      ]
     },
     "execution_count": 24,
     "metadata": {},
     "output_type": "execute_result"
    }
   ],
   "source": [
    "df.shape"
   ]
  },
  {
   "cell_type": "code",
   "execution_count": 25,
   "metadata": {},
   "outputs": [],
   "source": [
    "df = df.reset_index(drop=True)"
   ]
  },
  {
   "cell_type": "markdown",
   "metadata": {},
   "source": [
    "### Copy of dataframe"
   ]
  },
  {
   "cell_type": "code",
   "execution_count": 26,
   "metadata": {},
   "outputs": [],
   "source": [
    "data = df.copy()\n",
    "df_1 = df.copy()\n",
    "df_2 = df.copy()\n",
    "df_class = df.copy()"
   ]
  },
  {
   "cell_type": "code",
   "execution_count": 27,
   "metadata": {},
   "outputs": [],
   "source": [
    "df_2[['Bathrooms','Parking']] = df_2[['Bathrooms','Parking']].astype(str)"
   ]
  },
  {
   "cell_type": "markdown",
   "metadata": {},
   "source": [
    "### Feature Engineering on Categorical Variables - Manual"
   ]
  },
  {
   "cell_type": "code",
   "execution_count": 28,
   "metadata": {},
   "outputs": [
    {
     "data": {
      "text/plain": [
       "Apartment         345\n",
       "House             245\n",
       "Duplex/Triplex     98\n",
       "Condo              55\n",
       "Basement           37\n",
       "Townhouse          20\n",
       "Name: House_Type, dtype: int64"
      ]
     },
     "execution_count": 28,
     "metadata": {},
     "output_type": "execute_result"
    }
   ],
   "source": [
    "data['House_Type'].value_counts()"
   ]
  },
  {
   "cell_type": "code",
   "execution_count": 29,
   "metadata": {},
   "outputs": [],
   "source": [
    "HouseType_map = {'Basement': 1, 'House': 2, 'Duplex/Triplex': 3, \n",
    "               'Townhouse': 4, 'Apartment': 5, 'Condo': 6}\n",
    "data['House_Type'] = data['House_Type'].map(HouseType_map)"
   ]
  },
  {
   "cell_type": "code",
   "execution_count": 30,
   "metadata": {},
   "outputs": [
    {
     "data": {
      "text/plain": [
       "2                  267\n",
       "1                  187\n",
       "3                  132\n",
       "4                   52\n",
       "5+                  43\n",
       "Bachelor/Studio     41\n",
       "2 + Den             30\n",
       "3 + Den             28\n",
       "1 + Den             14\n",
       "4 + Den              6\n",
       "Name: Bedrooms, dtype: int64"
      ]
     },
     "execution_count": 30,
     "metadata": {},
     "output_type": "execute_result"
    }
   ],
   "source": [
    "data['Bedrooms'].value_counts()"
   ]
  },
  {
   "cell_type": "code",
   "execution_count": 31,
   "metadata": {},
   "outputs": [],
   "source": [
    "Bedrooms_map = {'Bachelor/Studio': 1, '1': 2, '1 + Den': 3, '2': 4,'2 + Den': 5,\n",
    "               '3': 6, '3 + Den': 7, '4': 8,'4 + Den': 9,'5+': 10}\n",
    "data['Bedrooms'] = data['Bedrooms'].map(Bedrooms_map)"
   ]
  },
  {
   "cell_type": "code",
   "execution_count": 32,
   "metadata": {},
   "outputs": [],
   "source": [
    "No_Yes_map = {'No': 0, 'Yes': 1}\n",
    "data['Hydro'] = data['Hydro'].map(No_Yes_map)\n",
    "data['Heat'] = data['Heat'].map(No_Yes_map)\n",
    "data['Water'] = data['Water'].map(No_Yes_map)\n",
    "data['Furnished'] = data['Furnished'].map(No_Yes_map)"
   ]
  },
  {
   "cell_type": "code",
   "execution_count": 33,
   "metadata": {},
   "outputs": [
    {
     "data": {
      "text/plain": [
       "No         316\n",
       "Limited    276\n",
       "Yes        208\n",
       "Name: Pet_Friendly, dtype: int64"
      ]
     },
     "execution_count": 33,
     "metadata": {},
     "output_type": "execute_result"
    }
   ],
   "source": [
    "data['Pet_Friendly'].value_counts()"
   ]
  },
  {
   "cell_type": "code",
   "execution_count": 34,
   "metadata": {},
   "outputs": [],
   "source": [
    "Pet_Friendly_map = {'No': 0, 'Limited': 1,'Yes': 2}\n",
    "data['Pet_Friendly'] = data['Pet_Friendly'].map(Pet_Friendly_map)"
   ]
  },
  {
   "cell_type": "code",
   "execution_count": 35,
   "metadata": {},
   "outputs": [
    {
     "data": {
      "text/plain": [
       "Yes              475\n",
       "No               323\n",
       "Not Available      2\n",
       "Name: Air_Conditioning, dtype: int64"
      ]
     },
     "execution_count": 35,
     "metadata": {},
     "output_type": "execute_result"
    }
   ],
   "source": [
    "data['Air_Conditioning'].value_counts()"
   ]
  },
  {
   "cell_type": "code",
   "execution_count": 36,
   "metadata": {},
   "outputs": [],
   "source": [
    "AC_map = {'No': 0, 'Not Available': 0,'Yes': 1}\n",
    "data['Air_Conditioning'] = data['Air_Conditioning'].map(AC_map)"
   ]
  },
  {
   "cell_type": "code",
   "execution_count": 37,
   "metadata": {},
   "outputs": [
    {
     "data": {
      "text/plain": [
       "No               453\n",
       "Outdoors only    295\n",
       "Yes               52\n",
       "Name: Smoking, dtype: int64"
      ]
     },
     "execution_count": 37,
     "metadata": {},
     "output_type": "execute_result"
    }
   ],
   "source": [
    "data['Smoking'].value_counts()"
   ]
  },
  {
   "cell_type": "code",
   "execution_count": 38,
   "metadata": {},
   "outputs": [],
   "source": [
    "Smoking_map = {'No': 0, 'Outdoors only': 1,'Yes': 2}\n",
    "data['Smoking'] = data['Smoking'].map(Smoking_map)"
   ]
  },
  {
   "cell_type": "code",
   "execution_count": 39,
   "metadata": {},
   "outputs": [
    {
     "data": {
      "text/plain": [
       "Laundry (In Building)                     345\n",
       "Laundry (In Unit)                         245\n",
       "Laundry (In Unit)Laundry (In Building)    106\n",
       "Not Included                              104\n",
       "Name: Laundry, dtype: int64"
      ]
     },
     "execution_count": 39,
     "metadata": {},
     "output_type": "execute_result"
    }
   ],
   "source": [
    "data['Laundry'].value_counts()"
   ]
  },
  {
   "cell_type": "code",
   "execution_count": 40,
   "metadata": {},
   "outputs": [],
   "source": [
    "data = pd.get_dummies(data, columns = ['Laundry'], \n",
    "                                    drop_first=True)"
   ]
  },
  {
   "cell_type": "code",
   "execution_count": 41,
   "metadata": {},
   "outputs": [],
   "source": [
    "NotIncluded_Yes_map = {'Not Included': 0, 'Yes': 1}\n",
    "data['Dishwasher'] = data['Dishwasher'].map(NotIncluded_Yes_map)\n",
    "data['Fridge'] = data['Fridge'].map(NotIncluded_Yes_map)\n",
    "data['Gym'] = data['Gym'].map(NotIncluded_Yes_map)\n",
    "data['Pool'] = data['Pool'].map(NotIncluded_Yes_map)\n",
    "data['24_Hour_Security'] = data['24_Hour_Security'].map(NotIncluded_Yes_map)\n",
    "data['Elevator_in_Building'] = data['Elevator_in_Building'].map(NotIncluded_Yes_map)\n",
    "data['Bicycle_Parking'] = data['Bicycle_Parking'].map(NotIncluded_Yes_map)\n",
    "data['Storage_Space'] = data['Storage_Space'].map(NotIncluded_Yes_map)"
   ]
  },
  {
   "cell_type": "code",
   "execution_count": 42,
   "metadata": {},
   "outputs": [
    {
     "data": {
      "text/plain": [
       "Yard            357\n",
       "Not Included    221\n",
       "Balcony         200\n",
       "YardBalcony      22\n",
       "Name: Personal_Outdoor_Space, dtype: int64"
      ]
     },
     "execution_count": 42,
     "metadata": {},
     "output_type": "execute_result"
    }
   ],
   "source": [
    "data['Personal_Outdoor_Space'].value_counts()"
   ]
  },
  {
   "cell_type": "code",
   "execution_count": 43,
   "metadata": {},
   "outputs": [],
   "source": [
    "data = pd.get_dummies(data, columns = ['Personal_Outdoor_Space'], \n",
    "                                    drop_first=True)"
   ]
  },
  {
   "cell_type": "code",
   "execution_count": 44,
   "metadata": {},
   "outputs": [
    {
     "data": {
      "text/plain": [
       "1 Year            732\n",
       "Month-to-month     68\n",
       "Name: Agreement, dtype: int64"
      ]
     },
     "execution_count": 44,
     "metadata": {},
     "output_type": "execute_result"
    }
   ],
   "source": [
    "data['Agreement'].value_counts()"
   ]
  },
  {
   "cell_type": "code",
   "execution_count": 45,
   "metadata": {},
   "outputs": [],
   "source": [
    "Agreement_map = {'Month-to-month': 0, '1 Year': 1}\n",
    "data['Agreement'] = data['Agreement'].map(Agreement_map)"
   ]
  },
  {
   "cell_type": "code",
   "execution_count": 46,
   "metadata": {},
   "outputs": [],
   "source": [
    "from sklearn.feature_extraction import FeatureHasher\n",
    "fh = FeatureHasher(n_features=6, input_type='string')\n",
    "hashed_features = fh.fit_transform(data['Region'])\n",
    "hashed_features = hashed_features.toarray()\n",
    "hash=pd.DataFrame(hashed_features)"
   ]
  },
  {
   "cell_type": "code",
   "execution_count": 47,
   "metadata": {},
   "outputs": [],
   "source": [
    "data=pd.concat([data, hash], join = 'outer', axis = 1)"
   ]
  },
  {
   "cell_type": "code",
   "execution_count": 48,
   "metadata": {},
   "outputs": [],
   "source": [
    "data = data.drop(['Region'], axis=1)"
   ]
  },
  {
   "cell_type": "code",
   "execution_count": 49,
   "metadata": {},
   "outputs": [
    {
     "data": {
      "text/html": [
       "<div>\n",
       "<style scoped>\n",
       "    .dataframe tbody tr th:only-of-type {\n",
       "        vertical-align: middle;\n",
       "    }\n",
       "\n",
       "    .dataframe tbody tr th {\n",
       "        vertical-align: top;\n",
       "    }\n",
       "\n",
       "    .dataframe thead th {\n",
       "        text-align: right;\n",
       "    }\n",
       "</style>\n",
       "<table border=\"1\" class=\"dataframe\">\n",
       "  <thead>\n",
       "    <tr style=\"text-align: right;\">\n",
       "      <th></th>\n",
       "      <th>House_Type</th>\n",
       "      <th>Bedrooms</th>\n",
       "      <th>Bathrooms</th>\n",
       "      <th>Hydro</th>\n",
       "      <th>Heat</th>\n",
       "      <th>Water</th>\n",
       "      <th>Parking</th>\n",
       "      <th>Pet_Friendly</th>\n",
       "      <th>Air_Conditioning</th>\n",
       "      <th>Smoking</th>\n",
       "      <th>...</th>\n",
       "      <th>Laundry_Not Included</th>\n",
       "      <th>Personal_Outdoor_Space_Not Included</th>\n",
       "      <th>Personal_Outdoor_Space_Yard</th>\n",
       "      <th>Personal_Outdoor_Space_YardBalcony</th>\n",
       "      <th>0</th>\n",
       "      <th>1</th>\n",
       "      <th>2</th>\n",
       "      <th>3</th>\n",
       "      <th>4</th>\n",
       "      <th>5</th>\n",
       "    </tr>\n",
       "  </thead>\n",
       "  <tbody>\n",
       "    <tr>\n",
       "      <th>0</th>\n",
       "      <td>2</td>\n",
       "      <td>8</td>\n",
       "      <td>2.0</td>\n",
       "      <td>1</td>\n",
       "      <td>1</td>\n",
       "      <td>1</td>\n",
       "      <td>2</td>\n",
       "      <td>2</td>\n",
       "      <td>1</td>\n",
       "      <td>1</td>\n",
       "      <td>...</td>\n",
       "      <td>0</td>\n",
       "      <td>0</td>\n",
       "      <td>1</td>\n",
       "      <td>0</td>\n",
       "      <td>-4.0</td>\n",
       "      <td>9.0</td>\n",
       "      <td>3.0</td>\n",
       "      <td>-8.0</td>\n",
       "      <td>2.0</td>\n",
       "      <td>-2.0</td>\n",
       "    </tr>\n",
       "    <tr>\n",
       "      <th>1</th>\n",
       "      <td>2</td>\n",
       "      <td>10</td>\n",
       "      <td>2.0</td>\n",
       "      <td>1</td>\n",
       "      <td>1</td>\n",
       "      <td>1</td>\n",
       "      <td>2</td>\n",
       "      <td>2</td>\n",
       "      <td>1</td>\n",
       "      <td>0</td>\n",
       "      <td>...</td>\n",
       "      <td>0</td>\n",
       "      <td>0</td>\n",
       "      <td>1</td>\n",
       "      <td>0</td>\n",
       "      <td>-4.0</td>\n",
       "      <td>9.0</td>\n",
       "      <td>3.0</td>\n",
       "      <td>-8.0</td>\n",
       "      <td>2.0</td>\n",
       "      <td>-2.0</td>\n",
       "    </tr>\n",
       "    <tr>\n",
       "      <th>2</th>\n",
       "      <td>5</td>\n",
       "      <td>2</td>\n",
       "      <td>1.0</td>\n",
       "      <td>1</td>\n",
       "      <td>1</td>\n",
       "      <td>1</td>\n",
       "      <td>0</td>\n",
       "      <td>2</td>\n",
       "      <td>0</td>\n",
       "      <td>1</td>\n",
       "      <td>...</td>\n",
       "      <td>0</td>\n",
       "      <td>0</td>\n",
       "      <td>0</td>\n",
       "      <td>0</td>\n",
       "      <td>-2.0</td>\n",
       "      <td>9.0</td>\n",
       "      <td>5.0</td>\n",
       "      <td>-8.0</td>\n",
       "      <td>1.0</td>\n",
       "      <td>-3.0</td>\n",
       "    </tr>\n",
       "    <tr>\n",
       "      <th>3</th>\n",
       "      <td>5</td>\n",
       "      <td>2</td>\n",
       "      <td>1.0</td>\n",
       "      <td>0</td>\n",
       "      <td>1</td>\n",
       "      <td>1</td>\n",
       "      <td>1</td>\n",
       "      <td>1</td>\n",
       "      <td>0</td>\n",
       "      <td>1</td>\n",
       "      <td>...</td>\n",
       "      <td>0</td>\n",
       "      <td>0</td>\n",
       "      <td>0</td>\n",
       "      <td>0</td>\n",
       "      <td>-1.0</td>\n",
       "      <td>6.0</td>\n",
       "      <td>7.0</td>\n",
       "      <td>-5.0</td>\n",
       "      <td>0.0</td>\n",
       "      <td>-2.0</td>\n",
       "    </tr>\n",
       "    <tr>\n",
       "      <th>4</th>\n",
       "      <td>2</td>\n",
       "      <td>10</td>\n",
       "      <td>2.0</td>\n",
       "      <td>0</td>\n",
       "      <td>0</td>\n",
       "      <td>0</td>\n",
       "      <td>0</td>\n",
       "      <td>0</td>\n",
       "      <td>0</td>\n",
       "      <td>1</td>\n",
       "      <td>...</td>\n",
       "      <td>0</td>\n",
       "      <td>0</td>\n",
       "      <td>1</td>\n",
       "      <td>0</td>\n",
       "      <td>-4.0</td>\n",
       "      <td>9.0</td>\n",
       "      <td>3.0</td>\n",
       "      <td>-8.0</td>\n",
       "      <td>2.0</td>\n",
       "      <td>-2.0</td>\n",
       "    </tr>\n",
       "  </tbody>\n",
       "</table>\n",
       "<p>5 rows × 34 columns</p>\n",
       "</div>"
      ],
      "text/plain": [
       "   House_Type  Bedrooms  Bathrooms  Hydro  Heat  Water  Parking  Pet_Friendly  \\\n",
       "0           2         8        2.0      1     1      1        2             2   \n",
       "1           2        10        2.0      1     1      1        2             2   \n",
       "2           5         2        1.0      1     1      1        0             2   \n",
       "3           5         2        1.0      0     1      1        1             1   \n",
       "4           2        10        2.0      0     0      0        0             0   \n",
       "\n",
       "   Air_Conditioning  Smoking  ...  Laundry_Not Included  \\\n",
       "0                 1        1  ...                     0   \n",
       "1                 1        0  ...                     0   \n",
       "2                 0        1  ...                     0   \n",
       "3                 0        1  ...                     0   \n",
       "4                 0        1  ...                     0   \n",
       "\n",
       "   Personal_Outdoor_Space_Not Included  Personal_Outdoor_Space_Yard  \\\n",
       "0                                    0                            1   \n",
       "1                                    0                            1   \n",
       "2                                    0                            0   \n",
       "3                                    0                            0   \n",
       "4                                    0                            1   \n",
       "\n",
       "   Personal_Outdoor_Space_YardBalcony    0    1    2    3    4    5  \n",
       "0                                   0 -4.0  9.0  3.0 -8.0  2.0 -2.0  \n",
       "1                                   0 -4.0  9.0  3.0 -8.0  2.0 -2.0  \n",
       "2                                   0 -2.0  9.0  5.0 -8.0  1.0 -3.0  \n",
       "3                                   0 -1.0  6.0  7.0 -5.0  0.0 -2.0  \n",
       "4                                   0 -4.0  9.0  3.0 -8.0  2.0 -2.0  \n",
       "\n",
       "[5 rows x 34 columns]"
      ]
     },
     "execution_count": 49,
     "metadata": {},
     "output_type": "execute_result"
    }
   ],
   "source": [
    "data.head()"
   ]
  },
  {
   "cell_type": "code",
   "execution_count": 50,
   "metadata": {},
   "outputs": [
    {
     "data": {
      "text/plain": [
       "<matplotlib.axes._subplots.AxesSubplot at 0x1ddca195c08>"
      ]
     },
     "execution_count": 50,
     "metadata": {},
     "output_type": "execute_result"
    },
    {
     "data": {
      "image/png": "[encoded data removed]",
      "text/plain": [
       "<Figure size 2160x1440 with 2 Axes>"
      ]
     },
     "metadata": {
      "needs_background": "light"
     },
     "output_type": "display_data"
    }
   ],
   "source": [
    "#Visualising the data using heatmap\n",
    "corr = data.corr(method='kendall')\n",
    "plt.figure(figsize=(30,20))\n",
    "sns.heatmap(corr, annot=True)"
   ]
  },
  {
   "cell_type": "markdown",
   "metadata": {},
   "source": [
    "#### Feature Engineering on Categorical Variables Using Encoders"
   ]
  },
  {
   "cell_type": "code",
   "execution_count": 51,
   "metadata": {},
   "outputs": [],
   "source": [
    "from pandas.api.types import is_string_dtype, is_object_dtype\n",
    "from sklearn import preprocessing\n",
    "\n",
    "label_encoder = preprocessing.LabelEncoder()\n",
    "\n",
    "def encoder_label(df_1):\n",
    "    for col in df_1.columns:\n",
    "        if is_object_dtype(df_1[col]) or is_string_dtype(df_1[col]):\n",
    "            df_1[col]= label_encoder.fit_transform(df_1[col])\n",
    "    \n",
    "    return df_1"
   ]
  },
  {
   "cell_type": "code",
   "execution_count": 52,
   "metadata": {},
   "outputs": [],
   "source": [
    "def encoder_dummies(df_2):\n",
    "    for col in df_2.columns:\n",
    "        if is_object_dtype(df_2[col]) or is_string_dtype(df_2[col]):\n",
    "            \n",
    "            df_2 = pd.concat([df_2,pd.get_dummies(df_2[col], prefix= col)],axis=1)\n",
    "            df_2.drop([col], axis = 1, inplace =True)\n",
    "    return df_2"
   ]
  },
  {
   "cell_type": "code",
   "execution_count": 53,
   "metadata": {},
   "outputs": [],
   "source": [
    "df_1 = encoder_label(df_1)"
   ]
  },
  {
   "cell_type": "code",
   "execution_count": 54,
   "metadata": {},
   "outputs": [],
   "source": [
    "df_2 = encoder_dummies(df_2)"
   ]
  },
  {
   "cell_type": "code",
   "execution_count": 55,
   "metadata": {},
   "outputs": [
    {
     "data": {
      "text/html": [
       "<div>\n",
       "<style scoped>\n",
       "    .dataframe tbody tr th:only-of-type {\n",
       "        vertical-align: middle;\n",
       "    }\n",
       "\n",
       "    .dataframe tbody tr th {\n",
       "        vertical-align: top;\n",
       "    }\n",
       "\n",
       "    .dataframe thead th {\n",
       "        text-align: right;\n",
       "    }\n",
       "</style>\n",
       "<table border=\"1\" class=\"dataframe\">\n",
       "  <thead>\n",
       "    <tr style=\"text-align: right;\">\n",
       "      <th></th>\n",
       "      <th>House_Type</th>\n",
       "      <th>Bedrooms</th>\n",
       "      <th>Bathrooms</th>\n",
       "      <th>Hydro</th>\n",
       "      <th>Heat</th>\n",
       "      <th>Water</th>\n",
       "      <th>Parking</th>\n",
       "      <th>Pet_Friendly</th>\n",
       "      <th>Air_Conditioning</th>\n",
       "      <th>Smoking</th>\n",
       "      <th>...</th>\n",
       "      <th>Pool</th>\n",
       "      <th>24_Hour_Security</th>\n",
       "      <th>Bicycle_Parking</th>\n",
       "      <th>Storage_Space</th>\n",
       "      <th>Elevator_in_Building</th>\n",
       "      <th>Personal_Outdoor_Space</th>\n",
       "      <th>Agreement</th>\n",
       "      <th>Region</th>\n",
       "      <th>Size</th>\n",
       "      <th>Rent</th>\n",
       "    </tr>\n",
       "  </thead>\n",
       "  <tbody>\n",
       "    <tr>\n",
       "      <th>0</th>\n",
       "      <td>4</td>\n",
       "      <td>6</td>\n",
       "      <td>2.0</td>\n",
       "      <td>1</td>\n",
       "      <td>1</td>\n",
       "      <td>1</td>\n",
       "      <td>2</td>\n",
       "      <td>2</td>\n",
       "      <td>2</td>\n",
       "      <td>1</td>\n",
       "      <td>...</td>\n",
       "      <td>0</td>\n",
       "      <td>0</td>\n",
       "      <td>0</td>\n",
       "      <td>0</td>\n",
       "      <td>0</td>\n",
       "      <td>2</td>\n",
       "      <td>0</td>\n",
       "      <td>10</td>\n",
       "      <td>2000.0</td>\n",
       "      <td>535.0</td>\n",
       "    </tr>\n",
       "    <tr>\n",
       "      <th>1</th>\n",
       "      <td>4</td>\n",
       "      <td>8</td>\n",
       "      <td>2.0</td>\n",
       "      <td>1</td>\n",
       "      <td>1</td>\n",
       "      <td>1</td>\n",
       "      <td>2</td>\n",
       "      <td>2</td>\n",
       "      <td>2</td>\n",
       "      <td>0</td>\n",
       "      <td>...</td>\n",
       "      <td>0</td>\n",
       "      <td>0</td>\n",
       "      <td>0</td>\n",
       "      <td>0</td>\n",
       "      <td>0</td>\n",
       "      <td>2</td>\n",
       "      <td>0</td>\n",
       "      <td>10</td>\n",
       "      <td>2000.0</td>\n",
       "      <td>535.0</td>\n",
       "    </tr>\n",
       "    <tr>\n",
       "      <th>2</th>\n",
       "      <td>0</td>\n",
       "      <td>0</td>\n",
       "      <td>1.0</td>\n",
       "      <td>1</td>\n",
       "      <td>1</td>\n",
       "      <td>1</td>\n",
       "      <td>0</td>\n",
       "      <td>2</td>\n",
       "      <td>0</td>\n",
       "      <td>1</td>\n",
       "      <td>...</td>\n",
       "      <td>0</td>\n",
       "      <td>0</td>\n",
       "      <td>0</td>\n",
       "      <td>0</td>\n",
       "      <td>1</td>\n",
       "      <td>0</td>\n",
       "      <td>0</td>\n",
       "      <td>0</td>\n",
       "      <td>683.0</td>\n",
       "      <td>1075.0</td>\n",
       "    </tr>\n",
       "    <tr>\n",
       "      <th>3</th>\n",
       "      <td>0</td>\n",
       "      <td>0</td>\n",
       "      <td>1.0</td>\n",
       "      <td>0</td>\n",
       "      <td>1</td>\n",
       "      <td>1</td>\n",
       "      <td>1</td>\n",
       "      <td>0</td>\n",
       "      <td>0</td>\n",
       "      <td>1</td>\n",
       "      <td>...</td>\n",
       "      <td>0</td>\n",
       "      <td>0</td>\n",
       "      <td>0</td>\n",
       "      <td>0</td>\n",
       "      <td>0</td>\n",
       "      <td>0</td>\n",
       "      <td>0</td>\n",
       "      <td>1</td>\n",
       "      <td>600.0</td>\n",
       "      <td>995.0</td>\n",
       "    </tr>\n",
       "    <tr>\n",
       "      <th>4</th>\n",
       "      <td>4</td>\n",
       "      <td>8</td>\n",
       "      <td>2.0</td>\n",
       "      <td>0</td>\n",
       "      <td>0</td>\n",
       "      <td>0</td>\n",
       "      <td>0</td>\n",
       "      <td>1</td>\n",
       "      <td>0</td>\n",
       "      <td>1</td>\n",
       "      <td>...</td>\n",
       "      <td>0</td>\n",
       "      <td>0</td>\n",
       "      <td>0</td>\n",
       "      <td>0</td>\n",
       "      <td>0</td>\n",
       "      <td>2</td>\n",
       "      <td>0</td>\n",
       "      <td>10</td>\n",
       "      <td>1500.0</td>\n",
       "      <td>1000.0</td>\n",
       "    </tr>\n",
       "  </tbody>\n",
       "</table>\n",
       "<p>5 rows × 25 columns</p>\n",
       "</div>"
      ],
      "text/plain": [
       "   House_Type  Bedrooms  Bathrooms  Hydro  Heat  Water  Parking  Pet_Friendly  \\\n",
       "0           4         6        2.0      1     1      1        2             2   \n",
       "1           4         8        2.0      1     1      1        2             2   \n",
       "2           0         0        1.0      1     1      1        0             2   \n",
       "3           0         0        1.0      0     1      1        1             0   \n",
       "4           4         8        2.0      0     0      0        0             1   \n",
       "\n",
       "   Air_Conditioning  Smoking  ...  Pool  24_Hour_Security  Bicycle_Parking  \\\n",
       "0                 2        1  ...     0                 0                0   \n",
       "1                 2        0  ...     0                 0                0   \n",
       "2                 0        1  ...     0                 0                0   \n",
       "3                 0        1  ...     0                 0                0   \n",
       "4                 0        1  ...     0                 0                0   \n",
       "\n",
       "   Storage_Space  Elevator_in_Building  Personal_Outdoor_Space  Agreement  \\\n",
       "0              0                     0                       2          0   \n",
       "1              0                     0                       2          0   \n",
       "2              0                     1                       0          0   \n",
       "3              0                     0                       0          0   \n",
       "4              0                     0                       2          0   \n",
       "\n",
       "   Region    Size    Rent  \n",
       "0      10  2000.0   535.0  \n",
       "1      10  2000.0   535.0  \n",
       "2       0   683.0  1075.0  \n",
       "3       1   600.0   995.0  \n",
       "4      10  1500.0  1000.0  \n",
       "\n",
       "[5 rows x 25 columns]"
      ]
     },
     "execution_count": 55,
     "metadata": {},
     "output_type": "execute_result"
    }
   ],
   "source": [
    "df_1.head()"
   ]
  },
  {
   "cell_type": "code",
   "execution_count": 56,
   "metadata": {},
   "outputs": [
    {
     "data": {
      "text/html": [
       "<div>\n",
       "<style scoped>\n",
       "    .dataframe tbody tr th:only-of-type {\n",
       "        vertical-align: middle;\n",
       "    }\n",
       "\n",
       "    .dataframe tbody tr th {\n",
       "        vertical-align: top;\n",
       "    }\n",
       "\n",
       "    .dataframe thead th {\n",
       "        text-align: right;\n",
       "    }\n",
       "</style>\n",
       "<table border=\"1\" class=\"dataframe\">\n",
       "  <thead>\n",
       "    <tr style=\"text-align: right;\">\n",
       "      <th></th>\n",
       "      <th>Size</th>\n",
       "      <th>Rent</th>\n",
       "      <th>House_Type_Apartment</th>\n",
       "      <th>House_Type_Basement</th>\n",
       "      <th>House_Type_Condo</th>\n",
       "      <th>House_Type_Duplex/Triplex</th>\n",
       "      <th>House_Type_House</th>\n",
       "      <th>House_Type_Townhouse</th>\n",
       "      <th>Bedrooms_1</th>\n",
       "      <th>Bedrooms_1 + Den</th>\n",
       "      <th>...</th>\n",
       "      <th>Region_Windsor East Forest Glade</th>\n",
       "      <th>Region_Windsor East Riverside</th>\n",
       "      <th>Region_Windsor Riverside</th>\n",
       "      <th>Region_Windsor Roseland</th>\n",
       "      <th>Region_Windsor Sandwich Ojibway West Malden</th>\n",
       "      <th>Region_Windsor South Central West Walkerville Remington P</th>\n",
       "      <th>Region_Windsor South East Malden</th>\n",
       "      <th>Region_Windsor South Walkerville West Fontainbleu Walker</th>\n",
       "      <th>Region_Windsor University South Cameron</th>\n",
       "      <th>Region_Windsor West Forest Glade East Fontainbleu</th>\n",
       "    </tr>\n",
       "  </thead>\n",
       "  <tbody>\n",
       "    <tr>\n",
       "      <th>0</th>\n",
       "      <td>2000.0</td>\n",
       "      <td>535.0</td>\n",
       "      <td>0</td>\n",
       "      <td>0</td>\n",
       "      <td>0</td>\n",
       "      <td>0</td>\n",
       "      <td>1</td>\n",
       "      <td>0</td>\n",
       "      <td>0</td>\n",
       "      <td>0</td>\n",
       "      <td>...</td>\n",
       "      <td>0</td>\n",
       "      <td>0</td>\n",
       "      <td>0</td>\n",
       "      <td>0</td>\n",
       "      <td>0</td>\n",
       "      <td>0</td>\n",
       "      <td>0</td>\n",
       "      <td>0</td>\n",
       "      <td>1</td>\n",
       "      <td>0</td>\n",
       "    </tr>\n",
       "    <tr>\n",
       "      <th>1</th>\n",
       "      <td>2000.0</td>\n",
       "      <td>535.0</td>\n",
       "      <td>0</td>\n",
       "      <td>0</td>\n",
       "      <td>0</td>\n",
       "      <td>0</td>\n",
       "      <td>1</td>\n",
       "      <td>0</td>\n",
       "      <td>0</td>\n",
       "      <td>0</td>\n",
       "      <td>...</td>\n",
       "      <td>0</td>\n",
       "      <td>0</td>\n",
       "      <td>0</td>\n",
       "      <td>0</td>\n",
       "      <td>0</td>\n",
       "      <td>0</td>\n",
       "      <td>0</td>\n",
       "      <td>0</td>\n",
       "      <td>1</td>\n",
       "      <td>0</td>\n",
       "    </tr>\n",
       "    <tr>\n",
       "      <th>2</th>\n",
       "      <td>683.0</td>\n",
       "      <td>1075.0</td>\n",
       "      <td>1</td>\n",
       "      <td>0</td>\n",
       "      <td>0</td>\n",
       "      <td>0</td>\n",
       "      <td>0</td>\n",
       "      <td>0</td>\n",
       "      <td>1</td>\n",
       "      <td>0</td>\n",
       "      <td>...</td>\n",
       "      <td>0</td>\n",
       "      <td>0</td>\n",
       "      <td>0</td>\n",
       "      <td>0</td>\n",
       "      <td>0</td>\n",
       "      <td>0</td>\n",
       "      <td>0</td>\n",
       "      <td>0</td>\n",
       "      <td>0</td>\n",
       "      <td>0</td>\n",
       "    </tr>\n",
       "    <tr>\n",
       "      <th>3</th>\n",
       "      <td>600.0</td>\n",
       "      <td>995.0</td>\n",
       "      <td>1</td>\n",
       "      <td>0</td>\n",
       "      <td>0</td>\n",
       "      <td>0</td>\n",
       "      <td>0</td>\n",
       "      <td>0</td>\n",
       "      <td>1</td>\n",
       "      <td>0</td>\n",
       "      <td>...</td>\n",
       "      <td>0</td>\n",
       "      <td>0</td>\n",
       "      <td>0</td>\n",
       "      <td>0</td>\n",
       "      <td>0</td>\n",
       "      <td>0</td>\n",
       "      <td>0</td>\n",
       "      <td>0</td>\n",
       "      <td>0</td>\n",
       "      <td>0</td>\n",
       "    </tr>\n",
       "    <tr>\n",
       "      <th>4</th>\n",
       "      <td>1500.0</td>\n",
       "      <td>1000.0</td>\n",
       "      <td>0</td>\n",
       "      <td>0</td>\n",
       "      <td>0</td>\n",
       "      <td>0</td>\n",
       "      <td>1</td>\n",
       "      <td>0</td>\n",
       "      <td>0</td>\n",
       "      <td>0</td>\n",
       "      <td>...</td>\n",
       "      <td>0</td>\n",
       "      <td>0</td>\n",
       "      <td>0</td>\n",
       "      <td>0</td>\n",
       "      <td>0</td>\n",
       "      <td>0</td>\n",
       "      <td>0</td>\n",
       "      <td>0</td>\n",
       "      <td>1</td>\n",
       "      <td>0</td>\n",
       "    </tr>\n",
       "  </tbody>\n",
       "</table>\n",
       "<p>5 rows × 83 columns</p>\n",
       "</div>"
      ],
      "text/plain": [
       "     Size    Rent  House_Type_Apartment  House_Type_Basement  \\\n",
       "0  2000.0   535.0                     0                    0   \n",
       "1  2000.0   535.0                     0                    0   \n",
       "2   683.0  1075.0                     1                    0   \n",
       "3   600.0   995.0                     1                    0   \n",
       "4  1500.0  1000.0                     0                    0   \n",
       "\n",
       "   House_Type_Condo  House_Type_Duplex/Triplex  House_Type_House  \\\n",
       "0                 0                          0                 1   \n",
       "1                 0                          0                 1   \n",
       "2                 0                          0                 0   \n",
       "3                 0                          0                 0   \n",
       "4                 0                          0                 1   \n",
       "\n",
       "   House_Type_Townhouse  Bedrooms_1  Bedrooms_1 + Den  ...  \\\n",
       "0                     0           0                 0  ...   \n",
       "1                     0           0                 0  ...   \n",
       "2                     0           1                 0  ...   \n",
       "3                     0           1                 0  ...   \n",
       "4                     0           0                 0  ...   \n",
       "\n",
       "   Region_Windsor East Forest Glade  Region_Windsor East Riverside  \\\n",
       "0                                 0                              0   \n",
       "1                                 0                              0   \n",
       "2                                 0                              0   \n",
       "3                                 0                              0   \n",
       "4                                 0                              0   \n",
       "\n",
       "   Region_Windsor Riverside  Region_Windsor Roseland  \\\n",
       "0                         0                        0   \n",
       "1                         0                        0   \n",
       "2                         0                        0   \n",
       "3                         0                        0   \n",
       "4                         0                        0   \n",
       "\n",
       "   Region_Windsor Sandwich Ojibway West Malden  \\\n",
       "0                                            0   \n",
       "1                                            0   \n",
       "2                                            0   \n",
       "3                                            0   \n",
       "4                                            0   \n",
       "\n",
       "   Region_Windsor South Central West Walkerville Remington P  \\\n",
       "0                                                  0           \n",
       "1                                                  0           \n",
       "2                                                  0           \n",
       "3                                                  0           \n",
       "4                                                  0           \n",
       "\n",
       "   Region_Windsor South East Malden  \\\n",
       "0                                 0   \n",
       "1                                 0   \n",
       "2                                 0   \n",
       "3                                 0   \n",
       "4                                 0   \n",
       "\n",
       "   Region_Windsor South Walkerville West Fontainbleu Walker  \\\n",
       "0                                                  0          \n",
       "1                                                  0          \n",
       "2                                                  0          \n",
       "3                                                  0          \n",
       "4                                                  0          \n",
       "\n",
       "   Region_Windsor University South Cameron  \\\n",
       "0                                        1   \n",
       "1                                        1   \n",
       "2                                        0   \n",
       "3                                        0   \n",
       "4                                        1   \n",
       "\n",
       "   Region_Windsor West Forest Glade East Fontainbleu  \n",
       "0                                                  0  \n",
       "1                                                  0  \n",
       "2                                                  0  \n",
       "3                                                  0  \n",
       "4                                                  0  \n",
       "\n",
       "[5 rows x 83 columns]"
      ]
     },
     "execution_count": 56,
     "metadata": {},
     "output_type": "execute_result"
    }
   ],
   "source": [
    "df_2.head()"
   ]
  },
  {
   "cell_type": "markdown",
   "metadata": {},
   "source": [
    "### Splitting the data"
   ]
  },
  {
   "cell_type": "code",
   "execution_count": 57,
   "metadata": {},
   "outputs": [],
   "source": [
    "def drop_rent(data_frame):\n",
    "    \n",
    "    X = data_frame.drop(['Rent'],1)\n",
    "    y = data_frame['Rent']\n",
    "    \n",
    "    return X,y"
   ]
  },
  {
   "cell_type": "code",
   "execution_count": 58,
   "metadata": {},
   "outputs": [],
   "source": [
    "from sklearn.model_selection import train_test_split\n",
    "\n",
    "def split(X,y):\n",
    "    \n",
    "    X_train, X_test, y_train, y_test = train_test_split(X,y,test_size=0.2,random_state=0)\n",
    "    \n",
    "    return X_train, X_test, y_train, y_test"
   ]
  },
  {
   "cell_type": "code",
   "execution_count": 59,
   "metadata": {},
   "outputs": [],
   "source": [
    "# Scaling the data by using MinMaxScaler and fitting the train data\n",
    "from sklearn.preprocessing import MinMaxScaler\n",
    "\n",
    "def scaler_min_max(X_train,X_test):\n",
    "    \n",
    "    scaler = MinMaxScaler()\n",
    "    scaler.fit(X_train)\n",
    "    # Scaling X_train and X_test using MinMaxScaler \n",
    "    X_train_scaled = scaler.transform(X_train)\n",
    "    X_test_scaled = scaler.transform(X_test)\n",
    "    \n",
    "    return X_train_scaled, X_test_scaled"
   ]
  },
  {
   "cell_type": "markdown",
   "metadata": {},
   "source": [
    "### Models"
   ]
  },
  {
   "cell_type": "markdown",
   "metadata": {},
   "source": [
    "#### Linear Regression"
   ]
  },
  {
   "cell_type": "code",
   "execution_count": 60,
   "metadata": {},
   "outputs": [],
   "source": [
    "from sklearn.linear_model import LinearRegression\n",
    "from sklearn import metrics\n",
    "\n",
    "def model_lr(X_train_scaled, X_test_scaled, y_train, y_test):\n",
    "    \n",
    "    regressor = LinearRegression()\n",
    "    regressor.fit(X_train_scaled,y_train)\n",
    "    y_pred = regressor.predict(X_test_scaled)\n",
    "    R2_LR = metrics.r2_score(y_test, y_pred)*100\n",
    "    \n",
    "    return R2_LR\n",
    "    "
   ]
  },
  {
   "cell_type": "markdown",
   "metadata": {},
   "source": [
    "#### Random Forest Regressor"
   ]
  },
  {
   "cell_type": "code",
   "execution_count": 61,
   "metadata": {},
   "outputs": [],
   "source": [
    "from sklearn.ensemble import RandomForestRegressor\n",
    "\n",
    "def model_rf(X_train_scaled, X_test_scaled, y_train, y_test):\n",
    "    \n",
    "    RF_regressor = RandomForestRegressor(n_estimators=100, random_state=0)\n",
    "    RF_regressor.fit(X_train_scaled, y_train)\n",
    "    y_pred = RF_regressor.predict(X_test_scaled)\n",
    "    R2_RFR = metrics.r2_score(y_test, y_pred)*100\n",
    "    \n",
    "    return R2_RFR"
   ]
  },
  {
   "cell_type": "markdown",
   "metadata": {},
   "source": [
    "#### DecisionTreeRegressor"
   ]
  },
  {
   "cell_type": "code",
   "execution_count": 62,
   "metadata": {},
   "outputs": [],
   "source": [
    "from sklearn.tree import DecisionTreeRegressor\n",
    "\n",
    "def model_dt(X_train_scaled, X_test_scaled, y_train, y_test):\n",
    "    \n",
    "    DT_regressor = DecisionTreeRegressor(random_state=0)\n",
    "    DT_regressor.fit(X_train_scaled, y_train)\n",
    "    y_pred = DT_regressor.predict(X_test_scaled)\n",
    "    R2_DTR = metrics.r2_score(y_test, y_pred)*100\n",
    "    \n",
    "    return R2_DTR"
   ]
  },
  {
   "cell_type": "markdown",
   "metadata": {},
   "source": [
    "#### LassoCV"
   ]
  },
  {
   "cell_type": "code",
   "execution_count": 63,
   "metadata": {},
   "outputs": [],
   "source": [
    "from sklearn.linear_model import LassoCV\n",
    "\n",
    "def model_lasso(X_train_scaled, X_test_scaled, y_train, y_test):\n",
    "    \n",
    "    ls_regressor = LassoCV()\n",
    "    ls_regressor.fit(X_train_scaled, y_train)\n",
    "    y_pred = ls_regressor.predict(X_test_scaled)\n",
    "    R2_LSCV = metrics.r2_score(y_test, y_pred)*100\n",
    "    \n",
    "    return R2_LSCV"
   ]
  },
  {
   "cell_type": "markdown",
   "metadata": {},
   "source": [
    "#### Ridge"
   ]
  },
  {
   "cell_type": "code",
   "execution_count": 64,
   "metadata": {},
   "outputs": [],
   "source": [
    "from sklearn.linear_model import Ridge\n",
    "\n",
    "def model_ridge(X_train_scaled, X_test_scaled, y_train, y_test):\n",
    "    \n",
    "    Ridge_regressor = Ridge()\n",
    "    Ridge_regressor.fit(X_train_scaled, y_train)\n",
    "    y_pred = Ridge_regressor.predict(X_test_scaled)\n",
    "    R2_RGE = metrics.r2_score(y_test, y_pred)*100\n",
    "    \n",
    "    return R2_RGE"
   ]
  },
  {
   "cell_type": "markdown",
   "metadata": {},
   "source": [
    "#### ElasticNetCV"
   ]
  },
  {
   "cell_type": "code",
   "execution_count": 65,
   "metadata": {},
   "outputs": [],
   "source": [
    "from sklearn.linear_model import ElasticNetCV\n",
    "\n",
    "def model_elastic(X_train_scaled, X_test_scaled, y_train, y_test):\n",
    "    \n",
    "    Elastic_regressor = ElasticNetCV()\n",
    "    Elastic_regressor.fit(X_train_scaled, y_train)\n",
    "    y_pred = Elastic_regressor.predict(X_test_scaled)\n",
    "    R2_ENCV = metrics.r2_score(y_test, y_pred)*100\n",
    "    \n",
    "    return R2_ENCV"
   ]
  },
  {
   "cell_type": "markdown",
   "metadata": {},
   "source": [
    "#### SVR"
   ]
  },
  {
   "cell_type": "code",
   "execution_count": 66,
   "metadata": {},
   "outputs": [],
   "source": [
    "from sklearn.svm import SVR\n",
    "\n",
    "def model_svr(X_train_scaled, X_test_scaled, y_train, y_test):\n",
    "    \n",
    "    svr_regressor = SVR()\n",
    "    svr_regressor.fit(X_train_scaled, y_train)  \n",
    "    y_pred = svr_regressor.predict(X_test_scaled)\n",
    "    R2_SVR = metrics.r2_score(y_test, y_pred)*100\n",
    "    \n",
    "    return R2_SVR"
   ]
  },
  {
   "cell_type": "markdown",
   "metadata": {},
   "source": [
    "#### Random Forest Regressor with GridSearchCV"
   ]
  },
  {
   "cell_type": "code",
   "execution_count": 67,
   "metadata": {},
   "outputs": [],
   "source": [
    "from sklearn.model_selection import GridSearchCV\n",
    "\n",
    "param_grid = {\n",
    "    #'bootstrap': [True],\n",
    "    #'max_depth': [80, 90, 100, 110],\n",
    "    #'max_features': [2, 3],\n",
    "    #'min_samples_leaf': [3, 4, 5],\n",
    "    #'min_samples_split': [8, 10, 12],\n",
    "    #'n_estimators': [100, 200, 300, 1000]\n",
    "    'max_depth':[5,10,15],\n",
    "           'max_leaf_nodes':[30,40,50],\n",
    "            'min_samples_split':[20,40,50]\n",
    "}\n",
    "\n",
    "def model_rf_param(X_train_scaled, X_test_scaled, y_train, y_test):\n",
    "    \n",
    "    # Create a based model\n",
    "    rf = RandomForestRegressor()\n",
    "    # Instantiate the grid search model\n",
    "    grid_search = GridSearchCV(estimator = rf, param_grid = param_grid,cv = 5, n_jobs = -1, verbose = 2)\n",
    "    # Fit the grid search to the data\n",
    "    grid_search.fit(X_train_scaled, y_train)\n",
    "    y_pred = grid_search.predict(X_test_scaled)\n",
    "    R2_rf_param = metrics.r2_score(y_test, y_pred)*100\n",
    "    \n",
    "    return R2_rf_param"
   ]
  },
  {
   "cell_type": "markdown",
   "metadata": {},
   "source": [
    "#### Executing the models by passing manually encoded data"
   ]
  },
  {
   "cell_type": "code",
   "execution_count": 68,
   "metadata": {},
   "outputs": [
    {
     "name": "stdout",
     "output_type": "stream",
     "text": [
      "Fitting 5 folds for each of 27 candidates, totalling 135 fits\n"
     ]
    },
    {
     "name": "stderr",
     "output_type": "stream",
     "text": [
      "[Parallel(n_jobs=-1)]: Using backend LokyBackend with 8 concurrent workers.\n",
      "[Parallel(n_jobs=-1)]: Done  25 tasks      | elapsed:   12.5s\n",
      "[Parallel(n_jobs=-1)]: Done 135 out of 135 | elapsed:   24.7s finished\n"
     ]
    }
   ],
   "source": [
    "X,y = drop_rent(data)\n",
    "\n",
    "X_train, X_test, y_train, y_test = split(X,y)\n",
    "X_train_scaled, X_test_scaled = scaler_min_max(X_train,X_test)\n",
    "\n",
    "R2_lr_data = model_lr(X_train_scaled, X_test_scaled, y_train, y_test)\n",
    "\n",
    "R2_rf_data = model_rf(X_train_scaled, X_test_scaled, y_train, y_test)\n",
    "\n",
    "R2_dt_data = model_dt(X_train_scaled, X_test_scaled, y_train, y_test)\n",
    "\n",
    "R2_lasso_data = model_lasso(X_train_scaled, X_test_scaled, y_train, y_test)\n",
    "\n",
    "R2_ridge_data = model_ridge(X_train_scaled, X_test_scaled, y_train, y_test)\n",
    "\n",
    "R2_elastic_data = model_elastic(X_train_scaled, X_test_scaled, y_train, y_test)\n",
    "\n",
    "R2_svr_data = model_svr(X_train_scaled, X_test_scaled, y_train, y_test)\n",
    "\n",
    "R2_rf_param_data = model_rf_param(X_train_scaled, X_test_scaled, y_train, y_test)"
   ]
  },
  {
   "cell_type": "markdown",
   "metadata": {},
   "source": [
    "#### Executing the models by passing label encoded data"
   ]
  },
  {
   "cell_type": "code",
   "execution_count": 69,
   "metadata": {},
   "outputs": [
    {
     "name": "stdout",
     "output_type": "stream",
     "text": [
      "Fitting 5 folds for each of 27 candidates, totalling 135 fits\n"
     ]
    },
    {
     "name": "stderr",
     "output_type": "stream",
     "text": [
      "[Parallel(n_jobs=-1)]: Using backend LokyBackend with 8 concurrent workers.\n",
      "[Parallel(n_jobs=-1)]: Done  25 tasks      | elapsed:    3.4s\n",
      "[Parallel(n_jobs=-1)]: Done 135 out of 135 | elapsed:   15.4s finished\n"
     ]
    }
   ],
   "source": [
    "X,y = drop_rent(df_1)\n",
    "\n",
    "X_train, X_test, y_train, y_test = split(X,y)\n",
    "X_train_scaled, X_test_scaled = scaler_min_max(X_train,X_test)\n",
    "\n",
    "R2_lr_df_1 = model_lr(X_train_scaled, X_test_scaled, y_train, y_test)\n",
    "\n",
    "R2_rf_df_1 = model_rf(X_train_scaled, X_test_scaled, y_train, y_test)\n",
    "\n",
    "R2_dt_df_1 = model_dt(X_train_scaled, X_test_scaled, y_train, y_test)\n",
    "\n",
    "R2_lasso_df_1 = model_lasso(X_train_scaled, X_test_scaled, y_train, y_test)\n",
    "\n",
    "R2_ridge_df_1 = model_ridge(X_train_scaled, X_test_scaled, y_train, y_test)\n",
    "\n",
    "R2_elastic_df_1 = model_elastic(X_train_scaled, X_test_scaled, y_train, y_test)\n",
    "\n",
    "R2_svr_df_1 = model_svr(X_train_scaled, X_test_scaled, y_train, y_test)\n",
    "\n",
    "R2_rf_param_df_1 = model_rf_param(X_train_scaled, X_test_scaled, y_train, y_test)"
   ]
  },
  {
   "cell_type": "markdown",
   "metadata": {},
   "source": [
    "#### Executing the models by passing dummies encoded data"
   ]
  },
  {
   "cell_type": "code",
   "execution_count": 70,
   "metadata": {},
   "outputs": [
    {
     "name": "stdout",
     "output_type": "stream",
     "text": [
      "Fitting 5 folds for each of 27 candidates, totalling 135 fits\n"
     ]
    },
    {
     "name": "stderr",
     "output_type": "stream",
     "text": [
      "[Parallel(n_jobs=-1)]: Using backend LokyBackend with 8 concurrent workers.\n",
      "[Parallel(n_jobs=-1)]: Done  25 tasks      | elapsed:    4.2s\n",
      "[Parallel(n_jobs=-1)]: Done 135 out of 135 | elapsed:   19.2s finished\n"
     ]
    }
   ],
   "source": [
    "X,y = drop_rent(df_2)\n",
    "\n",
    "X_train, X_test, y_train, y_test = split(X,y)\n",
    "X_train_scaled, X_test_scaled = scaler_min_max(X_train,X_test)\n",
    "\n",
    "R2_lr_df_2 = model_lr(X_train_scaled, X_test_scaled, y_train, y_test)\n",
    "\n",
    "R2_rf_df_2 = model_rf(X_train_scaled, X_test_scaled, y_train, y_test)\n",
    "\n",
    "R2_dt_df_2 = model_dt(X_train_scaled, X_test_scaled, y_train, y_test)\n",
    "\n",
    "R2_lasso_df_2 = model_lasso(X_train_scaled, X_test_scaled, y_train, y_test)\n",
    "\n",
    "R2_ridge_df_2 = model_ridge(X_train_scaled, X_test_scaled, y_train, y_test)\n",
    "\n",
    "R2_elastic_df_2 = model_elastic(X_train_scaled, X_test_scaled, y_train, y_test)\n",
    "\n",
    "R2_svr_df_2 = model_svr(X_train_scaled, X_test_scaled, y_train, y_test)\n",
    "\n",
    "R2_rf_param_df_2 = model_rf_param(X_train_scaled, X_test_scaled, y_train, y_test)"
   ]
  },
  {
   "cell_type": "markdown",
   "metadata": {},
   "source": [
    "#### Regression Results"
   ]
  },
  {
   "cell_type": "code",
   "execution_count": 71,
   "metadata": {},
   "outputs": [
    {
     "data": {
      "text/html": [
       "<div>\n",
       "<style scoped>\n",
       "    .dataframe tbody tr th:only-of-type {\n",
       "        vertical-align: middle;\n",
       "    }\n",
       "\n",
       "    .dataframe tbody tr th {\n",
       "        vertical-align: top;\n",
       "    }\n",
       "\n",
       "    .dataframe thead th {\n",
       "        text-align: right;\n",
       "    }\n",
       "</style>\n",
       "<table border=\"1\" class=\"dataframe\">\n",
       "  <thead>\n",
       "    <tr style=\"text-align: right;\">\n",
       "      <th></th>\n",
       "      <th>Model</th>\n",
       "      <th>Manual Encoding</th>\n",
       "      <th>Label Encoding</th>\n",
       "      <th>Dummies Encoding</th>\n",
       "    </tr>\n",
       "  </thead>\n",
       "  <tbody>\n",
       "    <tr>\n",
       "      <th>1</th>\n",
       "      <td>Random Forest Regressor</td>\n",
       "      <td>52.829422</td>\n",
       "      <td>52.984169</td>\n",
       "      <td>51.567666</td>\n",
       "    </tr>\n",
       "    <tr>\n",
       "      <th>7</th>\n",
       "      <td>Random Forest with best Parameters</td>\n",
       "      <td>48.056953</td>\n",
       "      <td>47.836931</td>\n",
       "      <td>50.048509</td>\n",
       "    </tr>\n",
       "    <tr>\n",
       "      <th>3</th>\n",
       "      <td>Lasso</td>\n",
       "      <td>44.222737</td>\n",
       "      <td>45.580456</td>\n",
       "      <td>46.460237</td>\n",
       "    </tr>\n",
       "    <tr>\n",
       "      <th>4</th>\n",
       "      <td>Ridge</td>\n",
       "      <td>43.211965</td>\n",
       "      <td>43.926134</td>\n",
       "      <td>45.243721</td>\n",
       "    </tr>\n",
       "    <tr>\n",
       "      <th>0</th>\n",
       "      <td>Linear Regression</td>\n",
       "      <td>42.258260</td>\n",
       "      <td>43.854593</td>\n",
       "      <td>43.544461</td>\n",
       "    </tr>\n",
       "    <tr>\n",
       "      <th>5</th>\n",
       "      <td>Elastic</td>\n",
       "      <td>44.196147</td>\n",
       "      <td>42.523146</td>\n",
       "      <td>48.732853</td>\n",
       "    </tr>\n",
       "    <tr>\n",
       "      <th>6</th>\n",
       "      <td>SVR</td>\n",
       "      <td>6.497879</td>\n",
       "      <td>6.915313</td>\n",
       "      <td>6.000617</td>\n",
       "    </tr>\n",
       "    <tr>\n",
       "      <th>2</th>\n",
       "      <td>Decicion Tree Regressor</td>\n",
       "      <td>14.016450</td>\n",
       "      <td>6.740065</td>\n",
       "      <td>-15.071379</td>\n",
       "    </tr>\n",
       "  </tbody>\n",
       "</table>\n",
       "</div>"
      ],
      "text/plain": [
       "                                Model  Manual Encoding  Label Encoding  \\\n",
       "1             Random Forest Regressor        52.829422       52.984169   \n",
       "7  Random Forest with best Parameters        48.056953       47.836931   \n",
       "3                               Lasso        44.222737       45.580456   \n",
       "4                               Ridge        43.211965       43.926134   \n",
       "0                   Linear Regression        42.258260       43.854593   \n",
       "5                             Elastic        44.196147       42.523146   \n",
       "6                                 SVR         6.497879        6.915313   \n",
       "2             Decicion Tree Regressor        14.016450        6.740065   \n",
       "\n",
       "   Dummies Encoding  \n",
       "1         51.567666  \n",
       "7         50.048509  \n",
       "3         46.460237  \n",
       "4         45.243721  \n",
       "0         43.544461  \n",
       "5         48.732853  \n",
       "6          6.000617  \n",
       "2        -15.071379  "
      ]
     },
     "execution_count": 71,
     "metadata": {},
     "output_type": "execute_result"
    }
   ],
   "source": [
    "\n",
    "R2_new = {'Model':['Linear Regression', 'Random Forest Regressor', 'Decision Tree Regressor', 'Lasso', \n",
    "                   'Ridge', 'Elastic','SVR','Random Forest with best Parameters'],\n",
    "          \n",
    "          'Manual Encoding':[R2_lr_data, R2_rf_data, R2_dt_data, R2_lasso_data,\n",
    "                              R2_ridge_data, R2_elastic_data, R2_svr_data, R2_rf_param_data],\n",
    "          \n",
    "          'Label Encoding':[R2_lr_df_1, R2_rf_df_1, R2_dt_df_1, R2_lasso_df_1,\n",
    "                            R2_ridge_df_1, R2_elastic_df_1, R2_svr_df_1, R2_rf_param_df_1],\n",
    "          \n",
    "          'Dummies Encoding':[R2_lr_df_2, R2_rf_df_2, R2_dt_df_2, R2_lasso_df_2,\n",
    "                            R2_ridge_df_2, R2_elastic_df_2, R2_svr_df_2, R2_rf_param_df_2]\n",
    "         }\n",
    "R2_df_new = pd.DataFrame(R2_new)\n",
    "R2_df_new.sort_values(by = 'Label Encoding', ascending = False)"
   ]
  },
  {
   "cell_type": "markdown",
   "metadata": {},
   "source": [
    "### Classification"
   ]
  },
  {
   "cell_type": "code",
   "execution_count": 72,
   "metadata": {},
   "outputs": [
    {
     "data": {
      "text/html": [
       "<div>\n",
       "<style scoped>\n",
       "    .dataframe tbody tr th:only-of-type {\n",
       "        vertical-align: middle;\n",
       "    }\n",
       "\n",
       "    .dataframe tbody tr th {\n",
       "        vertical-align: top;\n",
       "    }\n",
       "\n",
       "    .dataframe thead th {\n",
       "        text-align: right;\n",
       "    }\n",
       "</style>\n",
       "<table border=\"1\" class=\"dataframe\">\n",
       "  <thead>\n",
       "    <tr style=\"text-align: right;\">\n",
       "      <th></th>\n",
       "      <th>House_Type</th>\n",
       "      <th>Bedrooms</th>\n",
       "      <th>Bathrooms</th>\n",
       "      <th>Hydro</th>\n",
       "      <th>Heat</th>\n",
       "      <th>Water</th>\n",
       "      <th>Parking</th>\n",
       "      <th>Pet_Friendly</th>\n",
       "      <th>Air_Conditioning</th>\n",
       "      <th>Smoking</th>\n",
       "      <th>...</th>\n",
       "      <th>Pool</th>\n",
       "      <th>24_Hour_Security</th>\n",
       "      <th>Bicycle_Parking</th>\n",
       "      <th>Storage_Space</th>\n",
       "      <th>Elevator_in_Building</th>\n",
       "      <th>Personal_Outdoor_Space</th>\n",
       "      <th>Agreement</th>\n",
       "      <th>Region</th>\n",
       "      <th>Size</th>\n",
       "      <th>Rent</th>\n",
       "    </tr>\n",
       "  </thead>\n",
       "  <tbody>\n",
       "    <tr>\n",
       "      <th>0</th>\n",
       "      <td>House</td>\n",
       "      <td>4</td>\n",
       "      <td>2.0</td>\n",
       "      <td>Yes</td>\n",
       "      <td>Yes</td>\n",
       "      <td>Yes</td>\n",
       "      <td>2</td>\n",
       "      <td>Yes</td>\n",
       "      <td>Yes</td>\n",
       "      <td>Outdoors only</td>\n",
       "      <td>...</td>\n",
       "      <td>Not Included</td>\n",
       "      <td>Not Included</td>\n",
       "      <td>Not Included</td>\n",
       "      <td>Not Included</td>\n",
       "      <td>Not Included</td>\n",
       "      <td>Yard</td>\n",
       "      <td>1 Year</td>\n",
       "      <td>Windsor University South Cameron</td>\n",
       "      <td>2000.0</td>\n",
       "      <td>535.0</td>\n",
       "    </tr>\n",
       "    <tr>\n",
       "      <th>1</th>\n",
       "      <td>House</td>\n",
       "      <td>5+</td>\n",
       "      <td>2.0</td>\n",
       "      <td>Yes</td>\n",
       "      <td>Yes</td>\n",
       "      <td>Yes</td>\n",
       "      <td>2</td>\n",
       "      <td>Yes</td>\n",
       "      <td>Yes</td>\n",
       "      <td>No</td>\n",
       "      <td>...</td>\n",
       "      <td>Not Included</td>\n",
       "      <td>Not Included</td>\n",
       "      <td>Not Included</td>\n",
       "      <td>Not Included</td>\n",
       "      <td>Not Included</td>\n",
       "      <td>Yard</td>\n",
       "      <td>1 Year</td>\n",
       "      <td>Windsor University South Cameron</td>\n",
       "      <td>2000.0</td>\n",
       "      <td>535.0</td>\n",
       "    </tr>\n",
       "    <tr>\n",
       "      <th>2</th>\n",
       "      <td>Apartment</td>\n",
       "      <td>1</td>\n",
       "      <td>1.0</td>\n",
       "      <td>Yes</td>\n",
       "      <td>Yes</td>\n",
       "      <td>Yes</td>\n",
       "      <td>0</td>\n",
       "      <td>Yes</td>\n",
       "      <td>No</td>\n",
       "      <td>Outdoors only</td>\n",
       "      <td>...</td>\n",
       "      <td>Not Included</td>\n",
       "      <td>Not Included</td>\n",
       "      <td>Not Included</td>\n",
       "      <td>Not Included</td>\n",
       "      <td>Yes</td>\n",
       "      <td>Balcony</td>\n",
       "      <td>1 Year</td>\n",
       "      <td>Windsor City Centre NW Walkerville</td>\n",
       "      <td>683.0</td>\n",
       "      <td>1075.0</td>\n",
       "    </tr>\n",
       "    <tr>\n",
       "      <th>3</th>\n",
       "      <td>Apartment</td>\n",
       "      <td>1</td>\n",
       "      <td>1.0</td>\n",
       "      <td>No</td>\n",
       "      <td>Yes</td>\n",
       "      <td>Yes</td>\n",
       "      <td>1</td>\n",
       "      <td>Limited</td>\n",
       "      <td>No</td>\n",
       "      <td>Outdoors only</td>\n",
       "      <td>...</td>\n",
       "      <td>Not Included</td>\n",
       "      <td>Not Included</td>\n",
       "      <td>Not Included</td>\n",
       "      <td>Not Included</td>\n",
       "      <td>Not Included</td>\n",
       "      <td>Balcony</td>\n",
       "      <td>1 Year</td>\n",
       "      <td>Windsor East East Walkerville</td>\n",
       "      <td>600.0</td>\n",
       "      <td>995.0</td>\n",
       "    </tr>\n",
       "    <tr>\n",
       "      <th>4</th>\n",
       "      <td>House</td>\n",
       "      <td>5+</td>\n",
       "      <td>2.0</td>\n",
       "      <td>No</td>\n",
       "      <td>No</td>\n",
       "      <td>No</td>\n",
       "      <td>0</td>\n",
       "      <td>No</td>\n",
       "      <td>No</td>\n",
       "      <td>Outdoors only</td>\n",
       "      <td>...</td>\n",
       "      <td>Not Included</td>\n",
       "      <td>Not Included</td>\n",
       "      <td>Not Included</td>\n",
       "      <td>Not Included</td>\n",
       "      <td>Not Included</td>\n",
       "      <td>Yard</td>\n",
       "      <td>1 Year</td>\n",
       "      <td>Windsor University South Cameron</td>\n",
       "      <td>1500.0</td>\n",
       "      <td>1000.0</td>\n",
       "    </tr>\n",
       "  </tbody>\n",
       "</table>\n",
       "<p>5 rows × 25 columns</p>\n",
       "</div>"
      ],
      "text/plain": [
       "  House_Type Bedrooms  Bathrooms Hydro Heat Water  Parking Pet_Friendly  \\\n",
       "0      House        4        2.0   Yes  Yes   Yes        2          Yes   \n",
       "1      House       5+        2.0   Yes  Yes   Yes        2          Yes   \n",
       "2  Apartment        1        1.0   Yes  Yes   Yes        0          Yes   \n",
       "3  Apartment        1        1.0    No  Yes   Yes        1      Limited   \n",
       "4      House       5+        2.0    No   No    No        0           No   \n",
       "\n",
       "  Air_Conditioning        Smoking  ...          Pool 24_Hour_Security  \\\n",
       "0              Yes  Outdoors only  ...  Not Included     Not Included   \n",
       "1              Yes             No  ...  Not Included     Not Included   \n",
       "2               No  Outdoors only  ...  Not Included     Not Included   \n",
       "3               No  Outdoors only  ...  Not Included     Not Included   \n",
       "4               No  Outdoors only  ...  Not Included     Not Included   \n",
       "\n",
       "  Bicycle_Parking Storage_Space Elevator_in_Building Personal_Outdoor_Space  \\\n",
       "0    Not Included  Not Included         Not Included                   Yard   \n",
       "1    Not Included  Not Included         Not Included                   Yard   \n",
       "2    Not Included  Not Included                  Yes                Balcony   \n",
       "3    Not Included  Not Included         Not Included                Balcony   \n",
       "4    Not Included  Not Included         Not Included                   Yard   \n",
       "\n",
       "  Agreement                              Region    Size    Rent  \n",
       "0    1 Year    Windsor University South Cameron  2000.0   535.0  \n",
       "1    1 Year    Windsor University South Cameron  2000.0   535.0  \n",
       "2    1 Year  Windsor City Centre NW Walkerville   683.0  1075.0  \n",
       "3    1 Year       Windsor East East Walkerville   600.0   995.0  \n",
       "4    1 Year    Windsor University South Cameron  1500.0  1000.0  \n",
       "\n",
       "[5 rows x 25 columns]"
      ]
     },
     "execution_count": 72,
     "metadata": {},
     "output_type": "execute_result"
    }
   ],
   "source": [
    "df_class.head()"
   ]
  },
  {
   "cell_type": "code",
   "execution_count": 73,
   "metadata": {},
   "outputs": [
    {
     "data": {
      "text/plain": [
       "(800, 25)"
      ]
     },
     "execution_count": 73,
     "metadata": {},
     "output_type": "execute_result"
    }
   ],
   "source": [
    "df_class.shape"
   ]
  },
  {
   "cell_type": "code",
   "execution_count": 74,
   "metadata": {},
   "outputs": [],
   "source": [
    "df_class[['Bathrooms','Parking']] = df_class[['Bathrooms','Parking']].astype(str)"
   ]
  },
  {
   "cell_type": "code",
   "execution_count": 75,
   "metadata": {},
   "outputs": [
    {
     "data": {
      "text/html": [
       "<div>\n",
       "<style scoped>\n",
       "    .dataframe tbody tr th:only-of-type {\n",
       "        vertical-align: middle;\n",
       "    }\n",
       "\n",
       "    .dataframe tbody tr th {\n",
       "        vertical-align: top;\n",
       "    }\n",
       "\n",
       "    .dataframe thead th {\n",
       "        text-align: right;\n",
       "    }\n",
       "</style>\n",
       "<table border=\"1\" class=\"dataframe\">\n",
       "  <thead>\n",
       "    <tr style=\"text-align: right;\">\n",
       "      <th></th>\n",
       "      <th>Size</th>\n",
       "      <th>Rent</th>\n",
       "    </tr>\n",
       "  </thead>\n",
       "  <tbody>\n",
       "    <tr>\n",
       "      <th>count</th>\n",
       "      <td>800.000000</td>\n",
       "      <td>800.000000</td>\n",
       "    </tr>\n",
       "    <tr>\n",
       "      <th>mean</th>\n",
       "      <td>1040.202500</td>\n",
       "      <td>1398.067470</td>\n",
       "    </tr>\n",
       "    <tr>\n",
       "      <th>std</th>\n",
       "      <td>461.598872</td>\n",
       "      <td>443.243151</td>\n",
       "    </tr>\n",
       "    <tr>\n",
       "      <th>min</th>\n",
       "      <td>130.000000</td>\n",
       "      <td>65.000000</td>\n",
       "    </tr>\n",
       "    <tr>\n",
       "      <th>25%</th>\n",
       "      <td>700.000000</td>\n",
       "      <td>1091.000000</td>\n",
       "    </tr>\n",
       "    <tr>\n",
       "      <th>50%</th>\n",
       "      <td>908.500000</td>\n",
       "      <td>1350.000000</td>\n",
       "    </tr>\n",
       "    <tr>\n",
       "      <th>75%</th>\n",
       "      <td>1200.000000</td>\n",
       "      <td>1700.000000</td>\n",
       "    </tr>\n",
       "    <tr>\n",
       "      <th>max</th>\n",
       "      <td>3500.000000</td>\n",
       "      <td>3000.000000</td>\n",
       "    </tr>\n",
       "  </tbody>\n",
       "</table>\n",
       "</div>"
      ],
      "text/plain": [
       "              Size         Rent\n",
       "count   800.000000   800.000000\n",
       "mean   1040.202500  1398.067470\n",
       "std     461.598872   443.243151\n",
       "min     130.000000    65.000000\n",
       "25%     700.000000  1091.000000\n",
       "50%     908.500000  1350.000000\n",
       "75%    1200.000000  1700.000000\n",
       "max    3500.000000  3000.000000"
      ]
     },
     "execution_count": 75,
     "metadata": {},
     "output_type": "execute_result"
    }
   ],
   "source": [
    "df_class.describe()"
   ]
  },
  {
   "cell_type": "code",
   "execution_count": 76,
   "metadata": {},
   "outputs": [
    {
     "data": {
      "text/plain": [
       "House_Type                 object\n",
       "Bedrooms                   object\n",
       "Bathrooms                  object\n",
       "Hydro                      object\n",
       "Heat                       object\n",
       "Water                      object\n",
       "Parking                    object\n",
       "Pet_Friendly               object\n",
       "Air_Conditioning           object\n",
       "Smoking                    object\n",
       "Laundry                    object\n",
       "Dishwasher                 object\n",
       "Fridge                     object\n",
       "Furnished                  object\n",
       "Gym                        object\n",
       "Pool                       object\n",
       "24_Hour_Security           object\n",
       "Bicycle_Parking            object\n",
       "Storage_Space              object\n",
       "Elevator_in_Building       object\n",
       "Personal_Outdoor_Space     object\n",
       "Agreement                  object\n",
       "Region                     object\n",
       "Size                      float64\n",
       "Rent                      float64\n",
       "dtype: object"
      ]
     },
     "execution_count": 76,
     "metadata": {},
     "output_type": "execute_result"
    }
   ],
   "source": [
    "df_class.dtypes"
   ]
  },
  {
   "cell_type": "markdown",
   "metadata": {},
   "source": [
    "#### Eliminating the outliers by using z-score"
   ]
  },
  {
   "cell_type": "code",
   "execution_count": 77,
   "metadata": {},
   "outputs": [],
   "source": [
    "from scipy import stats\n",
    "\n",
    "df_temp = df_class[(np.abs(stats.zscore(df_class['Rent'])) < 3)]\n",
    "df_clean = df_temp[(np.abs(stats.zscore(df_temp['Size'])) < 3)]"
   ]
  },
  {
   "cell_type": "code",
   "execution_count": 78,
   "metadata": {},
   "outputs": [
    {
     "data": {
      "text/html": [
       "<div>\n",
       "<style scoped>\n",
       "    .dataframe tbody tr th:only-of-type {\n",
       "        vertical-align: middle;\n",
       "    }\n",
       "\n",
       "    .dataframe tbody tr th {\n",
       "        vertical-align: top;\n",
       "    }\n",
       "\n",
       "    .dataframe thead th {\n",
       "        text-align: right;\n",
       "    }\n",
       "</style>\n",
       "<table border=\"1\" class=\"dataframe\">\n",
       "  <thead>\n",
       "    <tr style=\"text-align: right;\">\n",
       "      <th></th>\n",
       "      <th>Size</th>\n",
       "      <th>Rent</th>\n",
       "    </tr>\n",
       "  </thead>\n",
       "  <tbody>\n",
       "    <tr>\n",
       "      <th>count</th>\n",
       "      <td>782.000000</td>\n",
       "      <td>782.000000</td>\n",
       "    </tr>\n",
       "    <tr>\n",
       "      <th>mean</th>\n",
       "      <td>1010.526854</td>\n",
       "      <td>1381.668767</td>\n",
       "    </tr>\n",
       "    <tr>\n",
       "      <th>std</th>\n",
       "      <td>407.913442</td>\n",
       "      <td>415.779222</td>\n",
       "    </tr>\n",
       "    <tr>\n",
       "      <th>min</th>\n",
       "      <td>130.000000</td>\n",
       "      <td>400.000000</td>\n",
       "    </tr>\n",
       "    <tr>\n",
       "      <th>25%</th>\n",
       "      <td>700.000000</td>\n",
       "      <td>1075.000000</td>\n",
       "    </tr>\n",
       "    <tr>\n",
       "      <th>50%</th>\n",
       "      <td>900.000000</td>\n",
       "      <td>1329.000000</td>\n",
       "    </tr>\n",
       "    <tr>\n",
       "      <th>75%</th>\n",
       "      <td>1200.000000</td>\n",
       "      <td>1695.000000</td>\n",
       "    </tr>\n",
       "    <tr>\n",
       "      <th>max</th>\n",
       "      <td>2400.000000</td>\n",
       "      <td>2700.000000</td>\n",
       "    </tr>\n",
       "  </tbody>\n",
       "</table>\n",
       "</div>"
      ],
      "text/plain": [
       "              Size         Rent\n",
       "count   782.000000   782.000000\n",
       "mean   1010.526854  1381.668767\n",
       "std     407.913442   415.779222\n",
       "min     130.000000   400.000000\n",
       "25%     700.000000  1075.000000\n",
       "50%     900.000000  1329.000000\n",
       "75%    1200.000000  1695.000000\n",
       "max    2400.000000  2700.000000"
      ]
     },
     "execution_count": 78,
     "metadata": {},
     "output_type": "execute_result"
    }
   ],
   "source": [
    "df_clean.describe()"
   ]
  },
  {
   "cell_type": "code",
   "execution_count": 79,
   "metadata": {},
   "outputs": [
    {
     "data": {
      "text/plain": [
       "<matplotlib.axes._subplots.AxesSubplot at 0x1ddcb98d988>"
      ]
     },
     "execution_count": 79,
     "metadata": {},
     "output_type": "execute_result"
    },
    {
     "data": {
      "image/png": "[encoded data removed]",
      "text/plain": [
       "<Figure size 720x432 with 1 Axes>"
      ]
     },
     "metadata": {
      "needs_background": "light"
     },
     "output_type": "display_data"
    }
   ],
   "source": [
    "plt.figure(figsize=(10,6))\n",
    "sns.boxplot(data=df_clean,fliersize=3)"
   ]
  },
  {
   "cell_type": "code",
   "execution_count": 80,
   "metadata": {},
   "outputs": [
    {
     "data": {
      "text/plain": [
       "(782, 25)"
      ]
     },
     "execution_count": 80,
     "metadata": {},
     "output_type": "execute_result"
    }
   ],
   "source": [
    "df_clean.shape"
   ]
  },
  {
   "cell_type": "code",
   "execution_count": 81,
   "metadata": {},
   "outputs": [],
   "source": [
    "dffinal=df_clean\n",
    "dffinal.head()\n",
    "dffinal.to_csv('dffinal.csv',index = False, header=True)"
   ]
  },
  {
   "cell_type": "markdown",
   "metadata": {},
   "source": [
    "#### Creating Target Variable based on Rent column"
   ]
  },
  {
   "cell_type": "code",
   "execution_count": 82,
   "metadata": {},
   "outputs": [],
   "source": [
    "conditions_Rent = [ (df_clean['Rent'] < 500 ),\n",
    "              (df_clean['Rent'] >= 500) & (df_clean['Rent'] < 1000 ),\n",
    "              (df_clean['Rent'] >= 1000 ) & (df_clean['Rent'] < 1500 ),\n",
    "              (df_clean['Rent'] >= 1500 ) & (df_clean['Rent'] < 2000 ),\n",
    "              (df_clean['Rent'] >= 2000 ) & (df_clean['Rent'] < 2500 ),\n",
    "              (df_clean['Rent'] >= 2500 )   \n",
    "]"
   ]
  },
  {
   "cell_type": "code",
   "execution_count": 83,
   "metadata": {},
   "outputs": [],
   "source": [
    "conditions_Size = [ (df_clean['Size'] < 500 ),\n",
    "              (df_clean['Size'] >= 500) & (df_clean['Size'] < 1000 ),\n",
    "              (df_clean['Size'] >= 1000 ) & (df_clean['Size'] < 1500 ),\n",
    "              (df_clean['Size'] >= 1500 ) & (df_clean['Size'] < 2000 ),\n",
    "              (df_clean['Size'] >= 2000 ) & (df_clean['Size'] < 2500 ),\n",
    "              (df_clean['Size'] >= 2500 )   \n",
    "]"
   ]
  },
  {
   "cell_type": "code",
   "execution_count": 84,
   "metadata": {},
   "outputs": [],
   "source": [
    "values_Rent = ['A','B','C','D','E','F']\n",
    "values_Size = ['A','B','C','D','E','F']"
   ]
  },
  {
   "cell_type": "code",
   "execution_count": 85,
   "metadata": {},
   "outputs": [
    {
     "name": "stderr",
     "output_type": "stream",
     "text": [
      "C:\\Users\\Sunil Kumar\\anaconda3\\envs\\DAB300F20\\lib\\site-packages\\ipykernel_launcher.py:1: SettingWithCopyWarning: \n",
      "A value is trying to be set on a copy of a slice from a DataFrame.\n",
      "Try using .loc[row_indexer,col_indexer] = value instead\n",
      "\n",
      "See the caveats in the documentation: https://pandas.pydata.org/pandas-docs/stable/user_guide/indexing.html#returning-a-view-versus-a-copy\n",
      "  \"\"\"Entry point for launching an IPython kernel.\n",
      "C:\\Users\\Sunil Kumar\\anaconda3\\envs\\DAB300F20\\lib\\site-packages\\ipykernel_launcher.py:2: SettingWithCopyWarning: \n",
      "A value is trying to be set on a copy of a slice from a DataFrame.\n",
      "Try using .loc[row_indexer,col_indexer] = value instead\n",
      "\n",
      "See the caveats in the documentation: https://pandas.pydata.org/pandas-docs/stable/user_guide/indexing.html#returning-a-view-versus-a-copy\n",
      "  \n"
     ]
    }
   ],
   "source": [
    "df_clean['Rent_Category'] = np.select(conditions_Rent,values_Rent)\n",
    "df_clean['Size_Category'] = np.select(conditions_Size,values_Size)"
   ]
  },
  {
   "cell_type": "code",
   "execution_count": 86,
   "metadata": {},
   "outputs": [
    {
     "data": {
      "text/html": [
       "<div>\n",
       "<style scoped>\n",
       "    .dataframe tbody tr th:only-of-type {\n",
       "        vertical-align: middle;\n",
       "    }\n",
       "\n",
       "    .dataframe tbody tr th {\n",
       "        vertical-align: top;\n",
       "    }\n",
       "\n",
       "    .dataframe thead th {\n",
       "        text-align: right;\n",
       "    }\n",
       "</style>\n",
       "<table border=\"1\" class=\"dataframe\">\n",
       "  <thead>\n",
       "    <tr style=\"text-align: right;\">\n",
       "      <th></th>\n",
       "      <th>House_Type</th>\n",
       "      <th>Bedrooms</th>\n",
       "      <th>Bathrooms</th>\n",
       "      <th>Hydro</th>\n",
       "      <th>Heat</th>\n",
       "      <th>Water</th>\n",
       "      <th>Parking</th>\n",
       "      <th>Pet_Friendly</th>\n",
       "      <th>Air_Conditioning</th>\n",
       "      <th>Smoking</th>\n",
       "      <th>...</th>\n",
       "      <th>Bicycle_Parking</th>\n",
       "      <th>Storage_Space</th>\n",
       "      <th>Elevator_in_Building</th>\n",
       "      <th>Personal_Outdoor_Space</th>\n",
       "      <th>Agreement</th>\n",
       "      <th>Region</th>\n",
       "      <th>Size</th>\n",
       "      <th>Rent</th>\n",
       "      <th>Rent_Category</th>\n",
       "      <th>Size_Category</th>\n",
       "    </tr>\n",
       "  </thead>\n",
       "  <tbody>\n",
       "    <tr>\n",
       "      <th>0</th>\n",
       "      <td>House</td>\n",
       "      <td>4</td>\n",
       "      <td>2.0</td>\n",
       "      <td>Yes</td>\n",
       "      <td>Yes</td>\n",
       "      <td>Yes</td>\n",
       "      <td>2</td>\n",
       "      <td>Yes</td>\n",
       "      <td>Yes</td>\n",
       "      <td>Outdoors only</td>\n",
       "      <td>...</td>\n",
       "      <td>Not Included</td>\n",
       "      <td>Not Included</td>\n",
       "      <td>Not Included</td>\n",
       "      <td>Yard</td>\n",
       "      <td>1 Year</td>\n",
       "      <td>Windsor University South Cameron</td>\n",
       "      <td>2000.0</td>\n",
       "      <td>535.0</td>\n",
       "      <td>B</td>\n",
       "      <td>E</td>\n",
       "    </tr>\n",
       "    <tr>\n",
       "      <th>1</th>\n",
       "      <td>House</td>\n",
       "      <td>5+</td>\n",
       "      <td>2.0</td>\n",
       "      <td>Yes</td>\n",
       "      <td>Yes</td>\n",
       "      <td>Yes</td>\n",
       "      <td>2</td>\n",
       "      <td>Yes</td>\n",
       "      <td>Yes</td>\n",
       "      <td>No</td>\n",
       "      <td>...</td>\n",
       "      <td>Not Included</td>\n",
       "      <td>Not Included</td>\n",
       "      <td>Not Included</td>\n",
       "      <td>Yard</td>\n",
       "      <td>1 Year</td>\n",
       "      <td>Windsor University South Cameron</td>\n",
       "      <td>2000.0</td>\n",
       "      <td>535.0</td>\n",
       "      <td>B</td>\n",
       "      <td>E</td>\n",
       "    </tr>\n",
       "    <tr>\n",
       "      <th>2</th>\n",
       "      <td>Apartment</td>\n",
       "      <td>1</td>\n",
       "      <td>1.0</td>\n",
       "      <td>Yes</td>\n",
       "      <td>Yes</td>\n",
       "      <td>Yes</td>\n",
       "      <td>0</td>\n",
       "      <td>Yes</td>\n",
       "      <td>No</td>\n",
       "      <td>Outdoors only</td>\n",
       "      <td>...</td>\n",
       "      <td>Not Included</td>\n",
       "      <td>Not Included</td>\n",
       "      <td>Yes</td>\n",
       "      <td>Balcony</td>\n",
       "      <td>1 Year</td>\n",
       "      <td>Windsor City Centre NW Walkerville</td>\n",
       "      <td>683.0</td>\n",
       "      <td>1075.0</td>\n",
       "      <td>C</td>\n",
       "      <td>B</td>\n",
       "    </tr>\n",
       "    <tr>\n",
       "      <th>3</th>\n",
       "      <td>Apartment</td>\n",
       "      <td>1</td>\n",
       "      <td>1.0</td>\n",
       "      <td>No</td>\n",
       "      <td>Yes</td>\n",
       "      <td>Yes</td>\n",
       "      <td>1</td>\n",
       "      <td>Limited</td>\n",
       "      <td>No</td>\n",
       "      <td>Outdoors only</td>\n",
       "      <td>...</td>\n",
       "      <td>Not Included</td>\n",
       "      <td>Not Included</td>\n",
       "      <td>Not Included</td>\n",
       "      <td>Balcony</td>\n",
       "      <td>1 Year</td>\n",
       "      <td>Windsor East East Walkerville</td>\n",
       "      <td>600.0</td>\n",
       "      <td>995.0</td>\n",
       "      <td>B</td>\n",
       "      <td>B</td>\n",
       "    </tr>\n",
       "    <tr>\n",
       "      <th>4</th>\n",
       "      <td>House</td>\n",
       "      <td>5+</td>\n",
       "      <td>2.0</td>\n",
       "      <td>No</td>\n",
       "      <td>No</td>\n",
       "      <td>No</td>\n",
       "      <td>0</td>\n",
       "      <td>No</td>\n",
       "      <td>No</td>\n",
       "      <td>Outdoors only</td>\n",
       "      <td>...</td>\n",
       "      <td>Not Included</td>\n",
       "      <td>Not Included</td>\n",
       "      <td>Not Included</td>\n",
       "      <td>Yard</td>\n",
       "      <td>1 Year</td>\n",
       "      <td>Windsor University South Cameron</td>\n",
       "      <td>1500.0</td>\n",
       "      <td>1000.0</td>\n",
       "      <td>C</td>\n",
       "      <td>D</td>\n",
       "    </tr>\n",
       "  </tbody>\n",
       "</table>\n",
       "<p>5 rows × 27 columns</p>\n",
       "</div>"
      ],
      "text/plain": [
       "  House_Type Bedrooms Bathrooms Hydro Heat Water Parking Pet_Friendly  \\\n",
       "0      House        4       2.0   Yes  Yes   Yes       2          Yes   \n",
       "1      House       5+       2.0   Yes  Yes   Yes       2          Yes   \n",
       "2  Apartment        1       1.0   Yes  Yes   Yes       0          Yes   \n",
       "3  Apartment        1       1.0    No  Yes   Yes       1      Limited   \n",
       "4      House       5+       2.0    No   No    No       0           No   \n",
       "\n",
       "  Air_Conditioning        Smoking  ... Bicycle_Parking Storage_Space  \\\n",
       "0              Yes  Outdoors only  ...    Not Included  Not Included   \n",
       "1              Yes             No  ...    Not Included  Not Included   \n",
       "2               No  Outdoors only  ...    Not Included  Not Included   \n",
       "3               No  Outdoors only  ...    Not Included  Not Included   \n",
       "4               No  Outdoors only  ...    Not Included  Not Included   \n",
       "\n",
       "  Elevator_in_Building Personal_Outdoor_Space Agreement  \\\n",
       "0         Not Included                   Yard    1 Year   \n",
       "1         Not Included                   Yard    1 Year   \n",
       "2                  Yes                Balcony    1 Year   \n",
       "3         Not Included                Balcony    1 Year   \n",
       "4         Not Included                   Yard    1 Year   \n",
       "\n",
       "                               Region    Size    Rent Rent_Category  \\\n",
       "0    Windsor University South Cameron  2000.0   535.0             B   \n",
       "1    Windsor University South Cameron  2000.0   535.0             B   \n",
       "2  Windsor City Centre NW Walkerville   683.0  1075.0             C   \n",
       "3       Windsor East East Walkerville   600.0   995.0             B   \n",
       "4    Windsor University South Cameron  1500.0  1000.0             C   \n",
       "\n",
       "  Size_Category  \n",
       "0             E  \n",
       "1             E  \n",
       "2             B  \n",
       "3             B  \n",
       "4             D  \n",
       "\n",
       "[5 rows x 27 columns]"
      ]
     },
     "execution_count": 86,
     "metadata": {},
     "output_type": "execute_result"
    }
   ],
   "source": [
    "df_clean.head()"
   ]
  },
  {
   "cell_type": "code",
   "execution_count": 87,
   "metadata": {},
   "outputs": [],
   "source": [
    "df_clean = df_clean.drop(['Size','Rent'],1)"
   ]
  },
  {
   "cell_type": "code",
   "execution_count": 88,
   "metadata": {},
   "outputs": [
    {
     "data": {
      "text/plain": [
       "C    350\n",
       "D    237\n",
       "B    122\n",
       "E     52\n",
       "A     11\n",
       "F     10\n",
       "Name: Rent_Category, dtype: int64"
      ]
     },
     "execution_count": 88,
     "metadata": {},
     "output_type": "execute_result"
    }
   ],
   "source": [
    "df_clean['Rent_Category'].value_counts()"
   ]
  },
  {
   "cell_type": "code",
   "execution_count": 89,
   "metadata": {},
   "outputs": [
    {
     "name": "stderr",
     "output_type": "stream",
     "text": [
      "C:\\Users\\Sunil Kumar\\anaconda3\\envs\\DAB300F20\\lib\\site-packages\\seaborn\\_decorators.py:43: FutureWarning: Pass the following variable as a keyword arg: x. From version 0.12, the only valid positional argument will be `data`, and passing other arguments without an explicit keyword will result in an error or misinterpretation.\n",
      "  FutureWarning\n"
     ]
    },
    {
     "data": {
      "text/plain": [
       "<matplotlib.axes._subplots.AxesSubplot at 0x1ddcb9a8f88>"
      ]
     },
     "execution_count": 89,
     "metadata": {},
     "output_type": "execute_result"
    },
    {
     "data": {
      "image/png": "[encoded data removed]",
      "text/plain": [
       "<Figure size 432x288 with 1 Axes>"
      ]
     },
     "metadata": {
      "needs_background": "light"
     },
     "output_type": "display_data"
    }
   ],
   "source": [
    "sns.countplot(df_clean['Rent_Category'])"
   ]
  },
  {
   "cell_type": "code",
   "execution_count": 90,
   "metadata": {},
   "outputs": [
    {
     "data": {
      "text/html": [
       "<div>\n",
       "<style scoped>\n",
       "    .dataframe tbody tr th:only-of-type {\n",
       "        vertical-align: middle;\n",
       "    }\n",
       "\n",
       "    .dataframe tbody tr th {\n",
       "        vertical-align: top;\n",
       "    }\n",
       "\n",
       "    .dataframe thead th {\n",
       "        text-align: right;\n",
       "    }\n",
       "</style>\n",
       "<table border=\"1\" class=\"dataframe\">\n",
       "  <thead>\n",
       "    <tr style=\"text-align: right;\">\n",
       "      <th></th>\n",
       "      <th>House_Type</th>\n",
       "      <th>Bedrooms</th>\n",
       "      <th>Bathrooms</th>\n",
       "      <th>Hydro</th>\n",
       "      <th>Heat</th>\n",
       "      <th>Water</th>\n",
       "      <th>Parking</th>\n",
       "      <th>Pet_Friendly</th>\n",
       "      <th>Air_Conditioning</th>\n",
       "      <th>Smoking</th>\n",
       "      <th>...</th>\n",
       "      <th>Pool</th>\n",
       "      <th>24_Hour_Security</th>\n",
       "      <th>Bicycle_Parking</th>\n",
       "      <th>Storage_Space</th>\n",
       "      <th>Elevator_in_Building</th>\n",
       "      <th>Personal_Outdoor_Space</th>\n",
       "      <th>Agreement</th>\n",
       "      <th>Region</th>\n",
       "      <th>Rent_Category</th>\n",
       "      <th>Size_Category</th>\n",
       "    </tr>\n",
       "  </thead>\n",
       "  <tbody>\n",
       "    <tr>\n",
       "      <th>0</th>\n",
       "      <td>House</td>\n",
       "      <td>4</td>\n",
       "      <td>2.0</td>\n",
       "      <td>Yes</td>\n",
       "      <td>Yes</td>\n",
       "      <td>Yes</td>\n",
       "      <td>2</td>\n",
       "      <td>Yes</td>\n",
       "      <td>Yes</td>\n",
       "      <td>Outdoors only</td>\n",
       "      <td>...</td>\n",
       "      <td>Not Included</td>\n",
       "      <td>Not Included</td>\n",
       "      <td>Not Included</td>\n",
       "      <td>Not Included</td>\n",
       "      <td>Not Included</td>\n",
       "      <td>Yard</td>\n",
       "      <td>1 Year</td>\n",
       "      <td>Windsor University South Cameron</td>\n",
       "      <td>B</td>\n",
       "      <td>E</td>\n",
       "    </tr>\n",
       "    <tr>\n",
       "      <th>1</th>\n",
       "      <td>House</td>\n",
       "      <td>5+</td>\n",
       "      <td>2.0</td>\n",
       "      <td>Yes</td>\n",
       "      <td>Yes</td>\n",
       "      <td>Yes</td>\n",
       "      <td>2</td>\n",
       "      <td>Yes</td>\n",
       "      <td>Yes</td>\n",
       "      <td>No</td>\n",
       "      <td>...</td>\n",
       "      <td>Not Included</td>\n",
       "      <td>Not Included</td>\n",
       "      <td>Not Included</td>\n",
       "      <td>Not Included</td>\n",
       "      <td>Not Included</td>\n",
       "      <td>Yard</td>\n",
       "      <td>1 Year</td>\n",
       "      <td>Windsor University South Cameron</td>\n",
       "      <td>B</td>\n",
       "      <td>E</td>\n",
       "    </tr>\n",
       "    <tr>\n",
       "      <th>2</th>\n",
       "      <td>Apartment</td>\n",
       "      <td>1</td>\n",
       "      <td>1.0</td>\n",
       "      <td>Yes</td>\n",
       "      <td>Yes</td>\n",
       "      <td>Yes</td>\n",
       "      <td>0</td>\n",
       "      <td>Yes</td>\n",
       "      <td>No</td>\n",
       "      <td>Outdoors only</td>\n",
       "      <td>...</td>\n",
       "      <td>Not Included</td>\n",
       "      <td>Not Included</td>\n",
       "      <td>Not Included</td>\n",
       "      <td>Not Included</td>\n",
       "      <td>Yes</td>\n",
       "      <td>Balcony</td>\n",
       "      <td>1 Year</td>\n",
       "      <td>Windsor City Centre NW Walkerville</td>\n",
       "      <td>C</td>\n",
       "      <td>B</td>\n",
       "    </tr>\n",
       "    <tr>\n",
       "      <th>3</th>\n",
       "      <td>Apartment</td>\n",
       "      <td>1</td>\n",
       "      <td>1.0</td>\n",
       "      <td>No</td>\n",
       "      <td>Yes</td>\n",
       "      <td>Yes</td>\n",
       "      <td>1</td>\n",
       "      <td>Limited</td>\n",
       "      <td>No</td>\n",
       "      <td>Outdoors only</td>\n",
       "      <td>...</td>\n",
       "      <td>Not Included</td>\n",
       "      <td>Not Included</td>\n",
       "      <td>Not Included</td>\n",
       "      <td>Not Included</td>\n",
       "      <td>Not Included</td>\n",
       "      <td>Balcony</td>\n",
       "      <td>1 Year</td>\n",
       "      <td>Windsor East East Walkerville</td>\n",
       "      <td>B</td>\n",
       "      <td>B</td>\n",
       "    </tr>\n",
       "    <tr>\n",
       "      <th>4</th>\n",
       "      <td>House</td>\n",
       "      <td>5+</td>\n",
       "      <td>2.0</td>\n",
       "      <td>No</td>\n",
       "      <td>No</td>\n",
       "      <td>No</td>\n",
       "      <td>0</td>\n",
       "      <td>No</td>\n",
       "      <td>No</td>\n",
       "      <td>Outdoors only</td>\n",
       "      <td>...</td>\n",
       "      <td>Not Included</td>\n",
       "      <td>Not Included</td>\n",
       "      <td>Not Included</td>\n",
       "      <td>Not Included</td>\n",
       "      <td>Not Included</td>\n",
       "      <td>Yard</td>\n",
       "      <td>1 Year</td>\n",
       "      <td>Windsor University South Cameron</td>\n",
       "      <td>C</td>\n",
       "      <td>D</td>\n",
       "    </tr>\n",
       "  </tbody>\n",
       "</table>\n",
       "<p>5 rows × 25 columns</p>\n",
       "</div>"
      ],
      "text/plain": [
       "  House_Type Bedrooms Bathrooms Hydro Heat Water Parking Pet_Friendly  \\\n",
       "0      House        4       2.0   Yes  Yes   Yes       2          Yes   \n",
       "1      House       5+       2.0   Yes  Yes   Yes       2          Yes   \n",
       "2  Apartment        1       1.0   Yes  Yes   Yes       0          Yes   \n",
       "3  Apartment        1       1.0    No  Yes   Yes       1      Limited   \n",
       "4      House       5+       2.0    No   No    No       0           No   \n",
       "\n",
       "  Air_Conditioning        Smoking  ...          Pool 24_Hour_Security  \\\n",
       "0              Yes  Outdoors only  ...  Not Included     Not Included   \n",
       "1              Yes             No  ...  Not Included     Not Included   \n",
       "2               No  Outdoors only  ...  Not Included     Not Included   \n",
       "3               No  Outdoors only  ...  Not Included     Not Included   \n",
       "4               No  Outdoors only  ...  Not Included     Not Included   \n",
       "\n",
       "  Bicycle_Parking Storage_Space Elevator_in_Building Personal_Outdoor_Space  \\\n",
       "0    Not Included  Not Included         Not Included                   Yard   \n",
       "1    Not Included  Not Included         Not Included                   Yard   \n",
       "2    Not Included  Not Included                  Yes                Balcony   \n",
       "3    Not Included  Not Included         Not Included                Balcony   \n",
       "4    Not Included  Not Included         Not Included                   Yard   \n",
       "\n",
       "  Agreement                              Region Rent_Category Size_Category  \n",
       "0    1 Year    Windsor University South Cameron             B             E  \n",
       "1    1 Year    Windsor University South Cameron             B             E  \n",
       "2    1 Year  Windsor City Centre NW Walkerville             C             B  \n",
       "3    1 Year       Windsor East East Walkerville             B             B  \n",
       "4    1 Year    Windsor University South Cameron             C             D  \n",
       "\n",
       "[5 rows x 25 columns]"
      ]
     },
     "execution_count": 90,
     "metadata": {},
     "output_type": "execute_result"
    }
   ],
   "source": [
    "dffinal=df_clean\n",
    "dffinal.head()"
   ]
  },
  {
   "cell_type": "code",
   "execution_count": 91,
   "metadata": {},
   "outputs": [],
   "source": [
    "dffinal.to_csv('dffinal.csv',index = False, header=True)"
   ]
  },
  {
   "cell_type": "code",
   "execution_count": 92,
   "metadata": {},
   "outputs": [],
   "source": [
    "df_label_enc = encoder_label(df_clean)"
   ]
  },
  {
   "cell_type": "code",
   "execution_count": 93,
   "metadata": {},
   "outputs": [
    {
     "data": {
      "text/html": [
       "<div>\n",
       "<style scoped>\n",
       "    .dataframe tbody tr th:only-of-type {\n",
       "        vertical-align: middle;\n",
       "    }\n",
       "\n",
       "    .dataframe tbody tr th {\n",
       "        vertical-align: top;\n",
       "    }\n",
       "\n",
       "    .dataframe thead th {\n",
       "        text-align: right;\n",
       "    }\n",
       "</style>\n",
       "<table border=\"1\" class=\"dataframe\">\n",
       "  <thead>\n",
       "    <tr style=\"text-align: right;\">\n",
       "      <th></th>\n",
       "      <th>House_Type</th>\n",
       "      <th>Bedrooms</th>\n",
       "      <th>Bathrooms</th>\n",
       "      <th>Hydro</th>\n",
       "      <th>Heat</th>\n",
       "      <th>Water</th>\n",
       "      <th>Parking</th>\n",
       "      <th>Pet_Friendly</th>\n",
       "      <th>Air_Conditioning</th>\n",
       "      <th>Smoking</th>\n",
       "      <th>...</th>\n",
       "      <th>Pool</th>\n",
       "      <th>24_Hour_Security</th>\n",
       "      <th>Bicycle_Parking</th>\n",
       "      <th>Storage_Space</th>\n",
       "      <th>Elevator_in_Building</th>\n",
       "      <th>Personal_Outdoor_Space</th>\n",
       "      <th>Agreement</th>\n",
       "      <th>Region</th>\n",
       "      <th>Rent_Category</th>\n",
       "      <th>Size_Category</th>\n",
       "    </tr>\n",
       "  </thead>\n",
       "  <tbody>\n",
       "    <tr>\n",
       "      <th>0</th>\n",
       "      <td>4</td>\n",
       "      <td>6</td>\n",
       "      <td>2</td>\n",
       "      <td>1</td>\n",
       "      <td>1</td>\n",
       "      <td>1</td>\n",
       "      <td>2</td>\n",
       "      <td>2</td>\n",
       "      <td>2</td>\n",
       "      <td>1</td>\n",
       "      <td>...</td>\n",
       "      <td>0</td>\n",
       "      <td>0</td>\n",
       "      <td>0</td>\n",
       "      <td>0</td>\n",
       "      <td>0</td>\n",
       "      <td>2</td>\n",
       "      <td>0</td>\n",
       "      <td>10</td>\n",
       "      <td>1</td>\n",
       "      <td>4</td>\n",
       "    </tr>\n",
       "    <tr>\n",
       "      <th>1</th>\n",
       "      <td>4</td>\n",
       "      <td>8</td>\n",
       "      <td>2</td>\n",
       "      <td>1</td>\n",
       "      <td>1</td>\n",
       "      <td>1</td>\n",
       "      <td>2</td>\n",
       "      <td>2</td>\n",
       "      <td>2</td>\n",
       "      <td>0</td>\n",
       "      <td>...</td>\n",
       "      <td>0</td>\n",
       "      <td>0</td>\n",
       "      <td>0</td>\n",
       "      <td>0</td>\n",
       "      <td>0</td>\n",
       "      <td>2</td>\n",
       "      <td>0</td>\n",
       "      <td>10</td>\n",
       "      <td>1</td>\n",
       "      <td>4</td>\n",
       "    </tr>\n",
       "    <tr>\n",
       "      <th>2</th>\n",
       "      <td>0</td>\n",
       "      <td>0</td>\n",
       "      <td>0</td>\n",
       "      <td>1</td>\n",
       "      <td>1</td>\n",
       "      <td>1</td>\n",
       "      <td>0</td>\n",
       "      <td>2</td>\n",
       "      <td>0</td>\n",
       "      <td>1</td>\n",
       "      <td>...</td>\n",
       "      <td>0</td>\n",
       "      <td>0</td>\n",
       "      <td>0</td>\n",
       "      <td>0</td>\n",
       "      <td>1</td>\n",
       "      <td>0</td>\n",
       "      <td>0</td>\n",
       "      <td>0</td>\n",
       "      <td>2</td>\n",
       "      <td>1</td>\n",
       "    </tr>\n",
       "    <tr>\n",
       "      <th>3</th>\n",
       "      <td>0</td>\n",
       "      <td>0</td>\n",
       "      <td>0</td>\n",
       "      <td>0</td>\n",
       "      <td>1</td>\n",
       "      <td>1</td>\n",
       "      <td>1</td>\n",
       "      <td>0</td>\n",
       "      <td>0</td>\n",
       "      <td>1</td>\n",
       "      <td>...</td>\n",
       "      <td>0</td>\n",
       "      <td>0</td>\n",
       "      <td>0</td>\n",
       "      <td>0</td>\n",
       "      <td>0</td>\n",
       "      <td>0</td>\n",
       "      <td>0</td>\n",
       "      <td>1</td>\n",
       "      <td>1</td>\n",
       "      <td>1</td>\n",
       "    </tr>\n",
       "    <tr>\n",
       "      <th>4</th>\n",
       "      <td>4</td>\n",
       "      <td>8</td>\n",
       "      <td>2</td>\n",
       "      <td>0</td>\n",
       "      <td>0</td>\n",
       "      <td>0</td>\n",
       "      <td>0</td>\n",
       "      <td>1</td>\n",
       "      <td>0</td>\n",
       "      <td>1</td>\n",
       "      <td>...</td>\n",
       "      <td>0</td>\n",
       "      <td>0</td>\n",
       "      <td>0</td>\n",
       "      <td>0</td>\n",
       "      <td>0</td>\n",
       "      <td>2</td>\n",
       "      <td>0</td>\n",
       "      <td>10</td>\n",
       "      <td>2</td>\n",
       "      <td>3</td>\n",
       "    </tr>\n",
       "  </tbody>\n",
       "</table>\n",
       "<p>5 rows × 25 columns</p>\n",
       "</div>"
      ],
      "text/plain": [
       "   House_Type  Bedrooms  Bathrooms  Hydro  Heat  Water  Parking  Pet_Friendly  \\\n",
       "0           4         6          2      1     1      1        2             2   \n",
       "1           4         8          2      1     1      1        2             2   \n",
       "2           0         0          0      1     1      1        0             2   \n",
       "3           0         0          0      0     1      1        1             0   \n",
       "4           4         8          2      0     0      0        0             1   \n",
       "\n",
       "   Air_Conditioning  Smoking  ...  Pool  24_Hour_Security  Bicycle_Parking  \\\n",
       "0                 2        1  ...     0                 0                0   \n",
       "1                 2        0  ...     0                 0                0   \n",
       "2                 0        1  ...     0                 0                0   \n",
       "3                 0        1  ...     0                 0                0   \n",
       "4                 0        1  ...     0                 0                0   \n",
       "\n",
       "   Storage_Space  Elevator_in_Building  Personal_Outdoor_Space  Agreement  \\\n",
       "0              0                     0                       2          0   \n",
       "1              0                     0                       2          0   \n",
       "2              0                     1                       0          0   \n",
       "3              0                     0                       0          0   \n",
       "4              0                     0                       2          0   \n",
       "\n",
       "   Region  Rent_Category  Size_Category  \n",
       "0      10              1              4  \n",
       "1      10              1              4  \n",
       "2       0              2              1  \n",
       "3       1              1              1  \n",
       "4      10              2              3  \n",
       "\n",
       "[5 rows x 25 columns]"
      ]
     },
     "execution_count": 93,
     "metadata": {},
     "output_type": "execute_result"
    }
   ],
   "source": [
    "df_label_enc.head()"
   ]
  },
  {
   "cell_type": "code",
   "execution_count": 94,
   "metadata": {},
   "outputs": [
    {
     "data": {
      "text/html": [
       "<div>\n",
       "<style scoped>\n",
       "    .dataframe tbody tr th:only-of-type {\n",
       "        vertical-align: middle;\n",
       "    }\n",
       "\n",
       "    .dataframe tbody tr th {\n",
       "        vertical-align: top;\n",
       "    }\n",
       "\n",
       "    .dataframe thead th {\n",
       "        text-align: right;\n",
       "    }\n",
       "</style>\n",
       "<table border=\"1\" class=\"dataframe\">\n",
       "  <thead>\n",
       "    <tr style=\"text-align: right;\">\n",
       "      <th></th>\n",
       "      <th>House_Type</th>\n",
       "      <th>Bedrooms</th>\n",
       "      <th>Bathrooms</th>\n",
       "      <th>Hydro</th>\n",
       "      <th>Heat</th>\n",
       "      <th>Water</th>\n",
       "      <th>Parking</th>\n",
       "      <th>Pet_Friendly</th>\n",
       "      <th>Air_Conditioning</th>\n",
       "      <th>Smoking</th>\n",
       "      <th>...</th>\n",
       "      <th>Pool</th>\n",
       "      <th>24_Hour_Security</th>\n",
       "      <th>Bicycle_Parking</th>\n",
       "      <th>Storage_Space</th>\n",
       "      <th>Elevator_in_Building</th>\n",
       "      <th>Personal_Outdoor_Space</th>\n",
       "      <th>Agreement</th>\n",
       "      <th>Region</th>\n",
       "      <th>Rent_Category</th>\n",
       "      <th>Size_Category</th>\n",
       "    </tr>\n",
       "  </thead>\n",
       "  <tbody>\n",
       "    <tr>\n",
       "      <th>0</th>\n",
       "      <td>4</td>\n",
       "      <td>6</td>\n",
       "      <td>2</td>\n",
       "      <td>1</td>\n",
       "      <td>1</td>\n",
       "      <td>1</td>\n",
       "      <td>2</td>\n",
       "      <td>2</td>\n",
       "      <td>2</td>\n",
       "      <td>1</td>\n",
       "      <td>...</td>\n",
       "      <td>0</td>\n",
       "      <td>0</td>\n",
       "      <td>0</td>\n",
       "      <td>0</td>\n",
       "      <td>0</td>\n",
       "      <td>2</td>\n",
       "      <td>0</td>\n",
       "      <td>10</td>\n",
       "      <td>1</td>\n",
       "      <td>4</td>\n",
       "    </tr>\n",
       "    <tr>\n",
       "      <th>1</th>\n",
       "      <td>4</td>\n",
       "      <td>8</td>\n",
       "      <td>2</td>\n",
       "      <td>1</td>\n",
       "      <td>1</td>\n",
       "      <td>1</td>\n",
       "      <td>2</td>\n",
       "      <td>2</td>\n",
       "      <td>2</td>\n",
       "      <td>0</td>\n",
       "      <td>...</td>\n",
       "      <td>0</td>\n",
       "      <td>0</td>\n",
       "      <td>0</td>\n",
       "      <td>0</td>\n",
       "      <td>0</td>\n",
       "      <td>2</td>\n",
       "      <td>0</td>\n",
       "      <td>10</td>\n",
       "      <td>1</td>\n",
       "      <td>4</td>\n",
       "    </tr>\n",
       "    <tr>\n",
       "      <th>2</th>\n",
       "      <td>0</td>\n",
       "      <td>0</td>\n",
       "      <td>0</td>\n",
       "      <td>1</td>\n",
       "      <td>1</td>\n",
       "      <td>1</td>\n",
       "      <td>0</td>\n",
       "      <td>2</td>\n",
       "      <td>0</td>\n",
       "      <td>1</td>\n",
       "      <td>...</td>\n",
       "      <td>0</td>\n",
       "      <td>0</td>\n",
       "      <td>0</td>\n",
       "      <td>0</td>\n",
       "      <td>1</td>\n",
       "      <td>0</td>\n",
       "      <td>0</td>\n",
       "      <td>0</td>\n",
       "      <td>2</td>\n",
       "      <td>1</td>\n",
       "    </tr>\n",
       "    <tr>\n",
       "      <th>3</th>\n",
       "      <td>0</td>\n",
       "      <td>0</td>\n",
       "      <td>0</td>\n",
       "      <td>0</td>\n",
       "      <td>1</td>\n",
       "      <td>1</td>\n",
       "      <td>1</td>\n",
       "      <td>0</td>\n",
       "      <td>0</td>\n",
       "      <td>1</td>\n",
       "      <td>...</td>\n",
       "      <td>0</td>\n",
       "      <td>0</td>\n",
       "      <td>0</td>\n",
       "      <td>0</td>\n",
       "      <td>0</td>\n",
       "      <td>0</td>\n",
       "      <td>0</td>\n",
       "      <td>1</td>\n",
       "      <td>1</td>\n",
       "      <td>1</td>\n",
       "    </tr>\n",
       "    <tr>\n",
       "      <th>4</th>\n",
       "      <td>4</td>\n",
       "      <td>8</td>\n",
       "      <td>2</td>\n",
       "      <td>0</td>\n",
       "      <td>0</td>\n",
       "      <td>0</td>\n",
       "      <td>0</td>\n",
       "      <td>1</td>\n",
       "      <td>0</td>\n",
       "      <td>1</td>\n",
       "      <td>...</td>\n",
       "      <td>0</td>\n",
       "      <td>0</td>\n",
       "      <td>0</td>\n",
       "      <td>0</td>\n",
       "      <td>0</td>\n",
       "      <td>2</td>\n",
       "      <td>0</td>\n",
       "      <td>10</td>\n",
       "      <td>2</td>\n",
       "      <td>3</td>\n",
       "    </tr>\n",
       "  </tbody>\n",
       "</table>\n",
       "<p>5 rows × 25 columns</p>\n",
       "</div>"
      ],
      "text/plain": [
       "   House_Type  Bedrooms  Bathrooms  Hydro  Heat  Water  Parking  Pet_Friendly  \\\n",
       "0           4         6          2      1     1      1        2             2   \n",
       "1           4         8          2      1     1      1        2             2   \n",
       "2           0         0          0      1     1      1        0             2   \n",
       "3           0         0          0      0     1      1        1             0   \n",
       "4           4         8          2      0     0      0        0             1   \n",
       "\n",
       "   Air_Conditioning  Smoking  ...  Pool  24_Hour_Security  Bicycle_Parking  \\\n",
       "0                 2        1  ...     0                 0                0   \n",
       "1                 2        0  ...     0                 0                0   \n",
       "2                 0        1  ...     0                 0                0   \n",
       "3                 0        1  ...     0                 0                0   \n",
       "4                 0        1  ...     0                 0                0   \n",
       "\n",
       "   Storage_Space  Elevator_in_Building  Personal_Outdoor_Space  Agreement  \\\n",
       "0              0                     0                       2          0   \n",
       "1              0                     0                       2          0   \n",
       "2              0                     1                       0          0   \n",
       "3              0                     0                       0          0   \n",
       "4              0                     0                       2          0   \n",
       "\n",
       "   Region  Rent_Category  Size_Category  \n",
       "0      10              1              4  \n",
       "1      10              1              4  \n",
       "2       0              2              1  \n",
       "3       1              1              1  \n",
       "4      10              2              3  \n",
       "\n",
       "[5 rows x 25 columns]"
      ]
     },
     "execution_count": 94,
     "metadata": {},
     "output_type": "execute_result"
    }
   ],
   "source": [
    "dffinal.head()"
   ]
  },
  {
   "cell_type": "code",
   "execution_count": 95,
   "metadata": {},
   "outputs": [],
   "source": [
    "df_clean_new = df_label_enc[['House_Type', 'Bedrooms', 'Bathrooms', 'Parking', 'Pet_Friendly', 'Laundry', 'Personal_Outdoor_Space', \n",
    "                         'Region', 'Size_Category','Rent_Category']]"
   ]
  },
  {
   "cell_type": "code",
   "execution_count": 96,
   "metadata": {},
   "outputs": [
    {
     "data": {
      "text/html": [
       "<div>\n",
       "<style scoped>\n",
       "    .dataframe tbody tr th:only-of-type {\n",
       "        vertical-align: middle;\n",
       "    }\n",
       "\n",
       "    .dataframe tbody tr th {\n",
       "        vertical-align: top;\n",
       "    }\n",
       "\n",
       "    .dataframe thead th {\n",
       "        text-align: right;\n",
       "    }\n",
       "</style>\n",
       "<table border=\"1\" class=\"dataframe\">\n",
       "  <thead>\n",
       "    <tr style=\"text-align: right;\">\n",
       "      <th></th>\n",
       "      <th>House_Type</th>\n",
       "      <th>Bedrooms</th>\n",
       "      <th>Bathrooms</th>\n",
       "      <th>Parking</th>\n",
       "      <th>Pet_Friendly</th>\n",
       "      <th>Laundry</th>\n",
       "      <th>Personal_Outdoor_Space</th>\n",
       "      <th>Region</th>\n",
       "      <th>Size_Category</th>\n",
       "      <th>Rent_Category</th>\n",
       "    </tr>\n",
       "  </thead>\n",
       "  <tbody>\n",
       "    <tr>\n",
       "      <th>0</th>\n",
       "      <td>4</td>\n",
       "      <td>6</td>\n",
       "      <td>2</td>\n",
       "      <td>2</td>\n",
       "      <td>2</td>\n",
       "      <td>2</td>\n",
       "      <td>2</td>\n",
       "      <td>10</td>\n",
       "      <td>4</td>\n",
       "      <td>1</td>\n",
       "    </tr>\n",
       "    <tr>\n",
       "      <th>1</th>\n",
       "      <td>4</td>\n",
       "      <td>8</td>\n",
       "      <td>2</td>\n",
       "      <td>2</td>\n",
       "      <td>2</td>\n",
       "      <td>2</td>\n",
       "      <td>2</td>\n",
       "      <td>10</td>\n",
       "      <td>4</td>\n",
       "      <td>1</td>\n",
       "    </tr>\n",
       "  </tbody>\n",
       "</table>\n",
       "</div>"
      ],
      "text/plain": [
       "   House_Type  Bedrooms  Bathrooms  Parking  Pet_Friendly  Laundry  \\\n",
       "0           4         6          2        2             2        2   \n",
       "1           4         8          2        2             2        2   \n",
       "\n",
       "   Personal_Outdoor_Space  Region  Size_Category  Rent_Category  \n",
       "0                       2      10              4              1  \n",
       "1                       2      10              4              1  "
      ]
     },
     "execution_count": 96,
     "metadata": {},
     "output_type": "execute_result"
    }
   ],
   "source": [
    "df_clean_new.head(2)"
   ]
  },
  {
   "cell_type": "code",
   "execution_count": 97,
   "metadata": {},
   "outputs": [
    {
     "data": {
      "text/plain": [
       "2    350\n",
       "3    237\n",
       "1    122\n",
       "4     52\n",
       "0     11\n",
       "5     10\n",
       "Name: Rent_Category, dtype: int64"
      ]
     },
     "execution_count": 97,
     "metadata": {},
     "output_type": "execute_result"
    }
   ],
   "source": [
    "df_clean_new['Rent_Category'].value_counts()"
   ]
  },
  {
   "cell_type": "code",
   "execution_count": 98,
   "metadata": {},
   "outputs": [],
   "source": [
    "X = df_clean_new.drop([\"Rent_Category\"],1)\n",
    "y = df_clean_new[\"Rent_Category\"]"
   ]
  },
  {
   "cell_type": "markdown",
   "metadata": {},
   "source": [
    "#### Over Sampling"
   ]
  },
  {
   "cell_type": "code",
   "execution_count": 99,
   "metadata": {},
   "outputs": [
    {
     "name": "stdout",
     "output_type": "stream",
     "text": [
      "Resampled dataset shape Counter({1: 350, 2: 350, 3: 350, 4: 350, 0: 350, 5: 350})\n"
     ]
    }
   ],
   "source": [
    "from imblearn.over_sampling import SMOTENC\n",
    "from collections import Counter\n",
    "over_sample = SMOTENC(random_state=0, categorical_features=True)\n",
    "X,y = over_sample.fit_resample(X,y)\n",
    "print('Resampled dataset shape %s' % Counter(y))"
   ]
  },
  {
   "cell_type": "markdown",
   "metadata": {},
   "source": [
    "#### Data Split"
   ]
  },
  {
   "cell_type": "code",
   "execution_count": 100,
   "metadata": {},
   "outputs": [],
   "source": [
    "X_train, X_test, y_train, y_test = split(X,y)\n",
    "X_train_scaled, X_test_scaled = scaler_min_max(X_train,X_test)"
   ]
  },
  {
   "cell_type": "code",
   "execution_count": 101,
   "metadata": {},
   "outputs": [
    {
     "data": {
      "text/plain": [
       "array([[0.8       , 0.66666667, 0.2       , ..., 0.33333333, 0.45454545,\n",
       "        0.75      ],\n",
       "       [0.8       , 0.55555556, 0.2       , ..., 0.66666667, 0.81818182,\n",
       "        0.75      ],\n",
       "       [0.        , 0.        , 0.        , ..., 0.        , 0.        ,\n",
       "        0.25      ],\n",
       "       ...,\n",
       "       [0.        , 0.22222222, 0.        , ..., 0.        , 0.09090909,\n",
       "        0.25      ],\n",
       "       [0.8       , 0.88888889, 0.        , ..., 0.33333333, 0.18181818,\n",
       "        0.25      ],\n",
       "       [0.8       , 0.66666667, 0.4       , ..., 0.33333333, 0.36363636,\n",
       "        0.75      ]])"
      ]
     },
     "execution_count": 101,
     "metadata": {},
     "output_type": "execute_result"
    }
   ],
   "source": [
    "X_train_scaled"
   ]
  },
  {
   "cell_type": "markdown",
   "metadata": {},
   "source": [
    "#### Logistic Regression"
   ]
  },
  {
   "cell_type": "code",
   "execution_count": 102,
   "metadata": {},
   "outputs": [
    {
     "name": "stdout",
     "output_type": "stream",
     "text": [
      "Train Accuracy: 0.5083\n",
      "---Metrics---\n",
      "accuracy: 0.4929\n",
      "\n",
      "Classification Report\n",
      "\n",
      "              precision    recall  f1-score   support\n",
      "\n",
      "           0       0.46      0.59      0.52        68\n",
      "           1       0.61      0.63      0.62        75\n",
      "           2       0.51      0.42      0.46        74\n",
      "           3       0.46      0.45      0.46        55\n",
      "           4       0.55      0.31      0.40        77\n",
      "           5       0.41      0.56      0.48        71\n",
      "\n",
      "    accuracy                           0.49       420\n",
      "   macro avg       0.50      0.49      0.49       420\n",
      "weighted avg       0.50      0.49      0.49       420\n",
      "\n"
     ]
    }
   ],
   "source": [
    "from sklearn.linear_model import LogisticRegression\n",
    "from sklearn.metrics import confusion_matrix, accuracy_score, f1_score, precision_score, recall_score\n",
    "\n",
    "# Fitting the model with train data\n",
    "classifier = LogisticRegression(random_state = 0)\n",
    "classifier.fit(X_train_scaled, y_train)\n",
    "lr_train_acc = classifier.score(X_train_scaled, y_train)*100\n",
    "# Predicting the target\n",
    "lr_pred = classifier.predict(X_test_scaled)\n",
    "lr_acc = classifier.score(X_test_scaled, y_test)*100\n",
    "#Evaluating the Results\n",
    "print(\"Train Accuracy: %.4f\" %classifier.score(X_train_scaled, y_train))\n",
    "print(\"---Metrics---\")\n",
    "print(\"accuracy: %.4f\" %accuracy_score(y_test, lr_pred))\n",
    "from sklearn.metrics import classification_report\n",
    "print('\\nClassification Report\\n')\n",
    "print(classification_report(y_test, lr_pred, target_names=['0', '1', '2', '3','4','5']))"
   ]
  },
  {
   "cell_type": "markdown",
   "metadata": {},
   "source": [
    "#### KNN Classifier"
   ]
  },
  {
   "cell_type": "code",
   "execution_count": 103,
   "metadata": {
    "scrolled": false
   },
   "outputs": [
    {
     "name": "stdout",
     "output_type": "stream",
     "text": [
      "Train accuracy: 94.64285714285714\n",
      "---Metrics--- for k = 1\n",
      "\n",
      "Accuracy: 0.80\n",
      "\n",
      "\n",
      "Classification Report\n",
      "\n",
      "              precision    recall  f1-score   support\n",
      "\n",
      "           0       0.88      0.96      0.92        68\n",
      "           1       0.73      0.76      0.75        75\n",
      "           2       0.65      0.54      0.59        74\n",
      "           3       0.60      0.67      0.63        55\n",
      "           4       0.94      0.87      0.91        77\n",
      "           5       0.93      0.96      0.94        71\n",
      "\n",
      "    accuracy                           0.80       420\n",
      "   macro avg       0.79      0.79      0.79       420\n",
      "weighted avg       0.80      0.80      0.79       420\n",
      "\n",
      "---------------------------\n",
      "Train accuracy: 89.22619047619048\n",
      "---Metrics--- for k = 2\n",
      "\n",
      "Accuracy: 0.78\n",
      "\n",
      "\n",
      "Classification Report\n",
      "\n",
      "              precision    recall  f1-score   support\n",
      "\n",
      "           0       0.80      0.99      0.88        68\n",
      "           1       0.67      0.85      0.75        75\n",
      "           2       0.62      0.50      0.55        74\n",
      "           3       0.70      0.58      0.63        55\n",
      "           4       0.97      0.79      0.87        77\n",
      "           5       0.96      0.96      0.96        71\n",
      "\n",
      "    accuracy                           0.78       420\n",
      "   macro avg       0.78      0.78      0.77       420\n",
      "weighted avg       0.79      0.78      0.78       420\n",
      "\n",
      "---------------------------\n",
      "Train accuracy: 88.69047619047619\n",
      "---Metrics--- for k = 3\n",
      "\n",
      "Accuracy: 0.81\n",
      "\n",
      "\n",
      "Classification Report\n",
      "\n",
      "              precision    recall  f1-score   support\n",
      "\n",
      "           0       0.85      0.97      0.90        68\n",
      "           1       0.72      0.81      0.76        75\n",
      "           2       0.70      0.57      0.63        74\n",
      "           3       0.69      0.62      0.65        55\n",
      "           4       0.94      0.87      0.91        77\n",
      "           5       0.92      1.00      0.96        71\n",
      "\n",
      "    accuracy                           0.81       420\n",
      "   macro avg       0.80      0.81      0.80       420\n",
      "weighted avg       0.81      0.81      0.81       420\n",
      "\n",
      "---------------------------\n",
      "Train accuracy: 85.05952380952381\n",
      "---Metrics--- for k = 4\n",
      "\n",
      "Accuracy: 0.77\n",
      "\n",
      "\n",
      "Classification Report\n",
      "\n",
      "              precision    recall  f1-score   support\n",
      "\n",
      "           0       0.76      0.97      0.85        68\n",
      "           1       0.68      0.83      0.75        75\n",
      "           2       0.65      0.47      0.55        74\n",
      "           3       0.69      0.62      0.65        55\n",
      "           4       0.93      0.82      0.87        77\n",
      "           5       0.90      0.90      0.90        71\n",
      "\n",
      "    accuracy                           0.77       420\n",
      "   macro avg       0.77      0.77      0.76       420\n",
      "weighted avg       0.77      0.77      0.76       420\n",
      "\n",
      "---------------------------\n",
      "Train accuracy: 82.61904761904762\n",
      "---Metrics--- for k = 5\n",
      "\n",
      "Accuracy: 0.77\n",
      "\n",
      "\n",
      "Classification Report\n",
      "\n",
      "              precision    recall  f1-score   support\n",
      "\n",
      "           0       0.78      0.94      0.85        68\n",
      "           1       0.71      0.84      0.77        75\n",
      "           2       0.69      0.49      0.57        74\n",
      "           3       0.70      0.60      0.65        55\n",
      "           4       0.86      0.83      0.85        77\n",
      "           5       0.86      0.92      0.88        71\n",
      "\n",
      "    accuracy                           0.77       420\n",
      "   macro avg       0.77      0.77      0.76       420\n",
      "weighted avg       0.77      0.77      0.77       420\n",
      "\n",
      "---------------------------\n"
     ]
    }
   ],
   "source": [
    "from sklearn.neighbors import KNeighborsClassifier\n",
    "from sklearn.metrics import confusion_matrix, accuracy_score, f1_score, precision_score, recall_score\n",
    "\n",
    "for k in range(5):\n",
    "    k = k+1\n",
    "    # Fitting the model with train data\n",
    "    knn_clf = KNeighborsClassifier(n_neighbors=k, n_jobs=-1)\n",
    "    knn_clf.fit(X_train_scaled, y_train)\n",
    "    # Evaluating and displaying training accuracy for the model\n",
    "    knn_acc_train = knn_clf.score(X_train_scaled, y_train)*100\n",
    "    print(\"Train accuracy:\", knn_acc_train)\n",
    "    # Predicting the target\n",
    "    knn_pred = knn_clf.predict(X_test_scaled)\n",
    "    #Evaluating the Results\n",
    "    print(\"---Metrics--- for k = {}\".format(k))\n",
    "    print('\\nAccuracy: {:.2f}\\n'.format(accuracy_score(y_test, knn_pred)))\n",
    "    print('\\nClassification Report\\n')\n",
    "    print(classification_report(y_test, knn_pred, target_names=['0', '1', '2', '3','4','5']))\n",
    "    print(\"---------------------------\")"
   ]
  },
  {
   "cell_type": "markdown",
   "metadata": {},
   "source": [
    "#### Support Vector Classfier"
   ]
  },
  {
   "cell_type": "code",
   "execution_count": 104,
   "metadata": {},
   "outputs": [
    {
     "name": "stdout",
     "output_type": "stream",
     "text": [
      "Train accuracy: 55.773809523809526\n",
      "---Metrics---\n",
      "\n",
      "Accuracy: 0.55\n",
      "\n",
      "\n",
      "Classification Report\n",
      "\n",
      "              precision    recall  f1-score   support\n",
      "\n",
      "           0       0.49      0.72      0.58        68\n",
      "           1       0.67      0.61      0.64        75\n",
      "           2       0.57      0.51      0.54        74\n",
      "           3       0.60      0.58      0.59        55\n",
      "           4       0.59      0.31      0.41        77\n",
      "           5       0.48      0.61      0.53        71\n",
      "\n",
      "    accuracy                           0.55       420\n",
      "   macro avg       0.57      0.56      0.55       420\n",
      "weighted avg       0.57      0.55      0.55       420\n",
      "\n"
     ]
    }
   ],
   "source": [
    "from sklearn.svm import SVC # \"Support vector classifier\"\n",
    "from sklearn.metrics import confusion_matrix, accuracy_score, f1_score, precision_score, recall_score\n",
    "\n",
    "# Fitting the model with train data\n",
    "lnr_svm = SVC(kernel='linear',C=1)\n",
    "lnr_svm.fit(X_train_scaled, y_train)\n",
    "\n",
    "# Evaluating and displaying training accuracy for the model\n",
    "svc_acc_train = lnr_svm.score(X_train_scaled, y_train)*100\n",
    "print(\"Train accuracy:\", svc_acc_train)\n",
    "\n",
    "# Predicting the target\n",
    "svm_pred = lnr_svm.predict(X_test_scaled)\n",
    "svm_acc = lnr_svm.score(X_test_scaled, y_test)*100\n",
    "#Evaluating the Results\n",
    "print(\"---Metrics---\")\n",
    "print('\\nAccuracy: {:.2f}\\n'.format(accuracy_score(y_test, svm_pred)))\n",
    "print('\\nClassification Report\\n')\n",
    "print(classification_report(y_test, svm_pred, target_names=['0', '1', '2', '3','4','5']))"
   ]
  },
  {
   "cell_type": "markdown",
   "metadata": {},
   "source": [
    "#### Random Forest Classifier"
   ]
  },
  {
   "cell_type": "code",
   "execution_count": 105,
   "metadata": {},
   "outputs": [
    {
     "name": "stdout",
     "output_type": "stream",
     "text": [
      "Train accuracy: 97.02380952380952\n",
      "---Metrics---\n",
      "\n",
      " Test Accuracy: 0.85\n",
      "\n",
      "\n",
      "Classification Report\n",
      "\n",
      "              precision    recall  f1-score   support\n",
      "\n",
      "           0       0.93      0.94      0.93        68\n",
      "           1       0.79      0.81      0.80        75\n",
      "           2       0.74      0.58      0.65        74\n",
      "           3       0.67      0.80      0.73        55\n",
      "           4       0.95      0.95      0.95        77\n",
      "           5       0.96      0.99      0.97        71\n",
      "\n",
      "    accuracy                           0.85       420\n",
      "   macro avg       0.84      0.84      0.84       420\n",
      "weighted avg       0.85      0.85      0.84       420\n",
      "\n"
     ]
    }
   ],
   "source": [
    "from sklearn.ensemble import RandomForestClassifier\n",
    "from sklearn.metrics import confusion_matrix, accuracy_score, f1_score, precision_score, recall_score\n",
    "\n",
    "# Fitting the model with train data\n",
    "rfc = RandomForestClassifier(n_jobs=-1,random_state=0)\n",
    "rfc.fit(X_train_scaled, y_train)\n",
    "\n",
    "# Evaluating and displaying training accuracy for the model\n",
    "rfc_acc_train = rfc.score(X_train_scaled, y_train)*100\n",
    "print(\"Train accuracy:\", rfc_acc_train)\n",
    "\n",
    "# Predicting the target\n",
    "rfc_pred = rfc.predict(X_test_scaled)\n",
    "rf_acc = rfc.score(X_test_scaled, y_test)*100\n",
    "#Evaluating the Results\n",
    "print(\"---Metrics---\")\n",
    "print('\\n Test Accuracy: {:.2f}\\n'.format(accuracy_score(y_test, rfc_pred)))\n",
    "print('\\nClassification Report\\n')\n",
    "print(classification_report(y_test, rfc_pred, target_names=['0', '1', '2', '3','4','5']))"
   ]
  },
  {
   "cell_type": "markdown",
   "metadata": {},
   "source": [
    "#### Random Forest Classifier with Multiple Parameters"
   ]
  },
  {
   "cell_type": "code",
   "execution_count": 106,
   "metadata": {},
   "outputs": [],
   "source": [
    "# Create a hyper parameter grid to use in the GridSearch for a RandomForest:\n",
    "param_grid={'max_depth':[5,10,15],'max_leaf_nodes':[30,40,50],'min_samples_split':[20,40,50]}"
   ]
  },
  {
   "cell_type": "code",
   "execution_count": 107,
   "metadata": {},
   "outputs": [
    {
     "name": "stdout",
     "output_type": "stream",
     "text": [
      "Train accuracy: 81.07142857142857\n",
      "Test score is 75.71428571428571\n",
      "Best parameters:{'max_depth': 15, 'max_leaf_nodes': 50, 'min_samples_split': 20}\n",
      "\n",
      "Classification Report\n",
      "\n",
      "              precision    recall  f1-score   support\n",
      "\n",
      "           0       0.84      0.97      0.90        68\n",
      "           1       0.76      0.69      0.73        75\n",
      "           2       0.62      0.57      0.59        74\n",
      "           3       0.64      0.76      0.69        55\n",
      "           4       0.89      0.61      0.72        77\n",
      "           5       0.80      0.97      0.88        71\n",
      "\n",
      "    accuracy                           0.76       420\n",
      "   macro avg       0.76      0.76      0.75       420\n",
      "weighted avg       0.76      0.76      0.75       420\n",
      "\n"
     ]
    }
   ],
   "source": [
    "# Applying GridSearch on a RandomForestClassifier with a multiple parameter:\n",
    "from sklearn.model_selection import GridSearchCV\n",
    "grid_search_rf = GridSearchCV(RandomForestClassifier(n_estimators=18,random_state=0,n_jobs=-1),param_grid,cv=5,return_train_score=True)\n",
    "# Training the model with train data\n",
    "grid_search_rf.fit(X_train,y_train)\n",
    "# Evaluating and displaying training accuracy for the model\n",
    "rfc_grid_acc_train = grid_search_rf.score(X_train, y_train)*100\n",
    "print(\"Train accuracy:\", rfc_grid_acc_train)\n",
    "# Evaluating and displaying testing accuracy for the model\n",
    "rfc_bp_pred = grid_search_rf.predict(X_test)\n",
    "rf_bp_acc = grid_search_rf.score(X_test, y_test)*100 # Evaluate the model\n",
    "print(\"Test score is \"+str(grid_search_rf.score(X_test,y_test)*100))\n",
    "print(\"Best parameters:\"+str(grid_search_rf.best_params_))\n",
    "print('\\nClassification Report\\n')\n",
    "print(classification_report(y_test, rfc_bp_pred, target_names=['0', '1', '2', '3','4','5']))"
   ]
  },
  {
   "cell_type": "markdown",
   "metadata": {},
   "source": [
    "#### XGB Classifier"
   ]
  },
  {
   "cell_type": "code",
   "execution_count": 108,
   "metadata": {},
   "outputs": [
    {
     "name": "stdout",
     "output_type": "stream",
     "text": [
      "Train accuracy: 80.41666666666667\n",
      "---Metrics---\n",
      "\n",
      " Test Accuracy: 0.74\n",
      "\n",
      "\n",
      "Classification Report\n",
      "\n",
      "              precision    recall  f1-score   support\n",
      "\n",
      "           0       0.85      0.84      0.84        68\n",
      "           1       0.79      0.69      0.74        75\n",
      "           2       0.63      0.62      0.63        74\n",
      "           3       0.65      0.75      0.69        55\n",
      "           4       0.83      0.65      0.73        77\n",
      "           5       0.70      0.90      0.79        71\n",
      "\n",
      "    accuracy                           0.74       420\n",
      "   macro avg       0.74      0.74      0.74       420\n",
      "weighted avg       0.75      0.74      0.74       420\n",
      "\n"
     ]
    }
   ],
   "source": [
    "from xgboost import XGBClassifier\n",
    "from sklearn.metrics import confusion_matrix, accuracy_score, f1_score, precision_score, recall_score\n",
    "\n",
    "# Fitting the model with train data\n",
    "xgb = XGBClassifier(n_jobs=-1)\n",
    "xgb.fit(X_train_scaled, y_train)\n",
    "\n",
    "# Evaluating and displaying training accuracy for the model\n",
    "xgb_acc_train = xgb.score(X_train_scaled, y_train)*100\n",
    "\n",
    "print(\"Train accuracy:\", xgb_acc_train)\n",
    "\n",
    "# Predicting the target\n",
    "xgb_pred = xgb.predict(X_test_scaled)\n",
    "xgb_acc = xgb.score(X_test_scaled, y_test)*100\n",
    "#Evaluating the Results\n",
    "print(\"---Metrics---\")\n",
    "print('\\n Test Accuracy: {:.2f}\\n'.format(accuracy_score(y_test, xgb_pred)))\n",
    "print('\\nClassification Report\\n')\n",
    "print(classification_report(y_test, xgb_pred, target_names=['0', '1', '2', '3','4','5']))"
   ]
  },
  {
   "cell_type": "markdown",
   "metadata": {},
   "source": [
    "#### XGB Classifier with Multiple Parameters"
   ]
  },
  {
   "cell_type": "code",
   "execution_count": 109,
   "metadata": {},
   "outputs": [],
   "source": [
    "param_grid_xgb={'max_depth':[5,10,15],'min_child_weight':[1,2,3],'max_leaf_nodes':[30,40,50]}"
   ]
  },
  {
   "cell_type": "code",
   "execution_count": 110,
   "metadata": {},
   "outputs": [
    {
     "name": "stdout",
     "output_type": "stream",
     "text": [
      "Train accuracy: 96.9047619047619\n",
      "Test score is 82.85714285714286\n",
      "Best parameters:{'max_depth': 10, 'max_leaf_nodes': 30, 'min_child_weight': 1}\n",
      "\n",
      "Classification Report\n",
      "\n",
      "              precision    recall  f1-score   support\n",
      "\n",
      "           0       0.84      0.94      0.89        68\n",
      "           1       0.82      0.81      0.82        75\n",
      "           2       0.75      0.62      0.68        74\n",
      "           3       0.62      0.73      0.67        55\n",
      "           4       0.94      0.87      0.91        77\n",
      "           5       0.96      0.99      0.97        71\n",
      "\n",
      "    accuracy                           0.83       420\n",
      "   macro avg       0.82      0.83      0.82       420\n",
      "weighted avg       0.83      0.83      0.83       420\n",
      "\n"
     ]
    }
   ],
   "source": [
    "from sklearn.model_selection import GridSearchCV\n",
    "from xgboost import XGBClassifier\n",
    "\n",
    "# Building Model\n",
    "grid_search_xgb = GridSearchCV(XGBClassifier(random_state=0,n_jobs=-1),param_grid_xgb,cv=5,return_train_score=True,n_jobs=-1)\n",
    "\n",
    "grid_search_xgb.fit(X_train_scaled,y_train) # Train the model\n",
    "xgb_bp_test_acc = grid_search_xgb.score(X_train_scaled, y_train)*100\n",
    "xgb_bp_pred = grid_search_xgb.predict(X_test_scaled) # Predicting the model\n",
    "xgb_bp_acc = grid_search_xgb.score(X_test_scaled, y_test)*100 # Evaluate the model\n",
    "\n",
    "print(\"Train accuracy:\", grid_search_xgb.score(X_train_scaled, y_train)*100)\n",
    "print(\"Test score is \"+str(grid_search_xgb.score(X_test_scaled,y_test)*100))\n",
    "print(\"Best parameters:\"+str(grid_search_xgb.best_params_))\n",
    "print('\\nClassification Report\\n')\n",
    "print(classification_report(y_test, xgb_bp_pred, target_names=['0', '1', '2', '3','4','5']))"
   ]
  },
  {
   "cell_type": "markdown",
   "metadata": {},
   "source": [
    "#### Classification Results"
   ]
  },
  {
   "cell_type": "code",
   "execution_count": 111,
   "metadata": {},
   "outputs": [
    {
     "data": {
      "text/html": [
       "<div>\n",
       "<style scoped>\n",
       "    .dataframe tbody tr th:only-of-type {\n",
       "        vertical-align: middle;\n",
       "    }\n",
       "\n",
       "    .dataframe tbody tr th {\n",
       "        vertical-align: top;\n",
       "    }\n",
       "\n",
       "    .dataframe thead th {\n",
       "        text-align: right;\n",
       "    }\n",
       "</style>\n",
       "<table border=\"1\" class=\"dataframe\">\n",
       "  <thead>\n",
       "    <tr style=\"text-align: right;\">\n",
       "      <th></th>\n",
       "      <th>Model</th>\n",
       "      <th>Train_Accuracy</th>\n",
       "      <th>Test_Accuracy</th>\n",
       "    </tr>\n",
       "  </thead>\n",
       "  <tbody>\n",
       "    <tr>\n",
       "      <th>2</th>\n",
       "      <td>Random Forest Classifier</td>\n",
       "      <td>97.023810</td>\n",
       "      <td>84.523810</td>\n",
       "    </tr>\n",
       "    <tr>\n",
       "      <th>5</th>\n",
       "      <td>XGB with best parameters</td>\n",
       "      <td>96.904762</td>\n",
       "      <td>82.857143</td>\n",
       "    </tr>\n",
       "    <tr>\n",
       "      <th>3</th>\n",
       "      <td>Random Forest with best Parameters</td>\n",
       "      <td>81.071429</td>\n",
       "      <td>75.714286</td>\n",
       "    </tr>\n",
       "    <tr>\n",
       "      <th>4</th>\n",
       "      <td>XGB</td>\n",
       "      <td>80.416667</td>\n",
       "      <td>73.809524</td>\n",
       "    </tr>\n",
       "    <tr>\n",
       "      <th>1</th>\n",
       "      <td>SVM</td>\n",
       "      <td>55.773810</td>\n",
       "      <td>55.238095</td>\n",
       "    </tr>\n",
       "    <tr>\n",
       "      <th>0</th>\n",
       "      <td>Logistic Regression</td>\n",
       "      <td>50.833333</td>\n",
       "      <td>49.285714</td>\n",
       "    </tr>\n",
       "  </tbody>\n",
       "</table>\n",
       "</div>"
      ],
      "text/plain": [
       "                                Model  Train_Accuracy  Test_Accuracy\n",
       "2            Random Forest Classifier       97.023810      84.523810\n",
       "5            XGB with best parameters       96.904762      82.857143\n",
       "3  Random Forest with best Parameters       81.071429      75.714286\n",
       "4                                 XGB       80.416667      73.809524\n",
       "1                                 SVM       55.773810      55.238095\n",
       "0                 Logistic Regression       50.833333      49.285714"
      ]
     },
     "execution_count": 111,
     "metadata": {},
     "output_type": "execute_result"
    }
   ],
   "source": [
    "\n",
    "acc_new = {'Model':['Logistic Regression', 'SVM','Random Forest Classifier', \n",
    "                    'Random Forest with best Parameters','XGB','XGB with best parameters'],\n",
    "           'Train_Accuracy':[lr_train_acc, svc_acc_train,rfc_acc_train, rfc_grid_acc_train, xgb_acc_train, xgb_bp_test_acc],\n",
    "          \n",
    "          'Test_Accuracy':[lr_acc,svm_acc,rf_acc,rf_bp_acc,xgb_acc,xgb_bp_acc]\n",
    "          \n",
    "         }\n",
    "acc_df_new = pd.DataFrame(acc_new)\n",
    "acc_df_new.sort_values(by = 'Test_Accuracy', ascending = False)"
   ]
  },
  {
   "cell_type": "code",
   "execution_count": 112,
   "metadata": {},
   "outputs": [],
   "source": [
    "# saving the model \n",
    "import pickle \n",
    "pickle_out = open(\"grid_search_rf.pkl\", mode = \"wb\") \n",
    "pickle.dump(grid_search_rf, pickle_out) \n",
    "pickle_out.close()"
   ]
  },
  {
   "cell_type": "code",
   "execution_count": 113,
   "metadata": {},
   "outputs": [
    {
     "name": "stdout",
     "output_type": "stream",
     "text": [
      "[[5, 1, 1, 0, 0, 0, 1, 2, 2]] [4]\n"
     ]
    }
   ],
   "source": [
    "new_sample1 = [[5,1,1,0,0,0,1,2,2]]\n",
    "new_output = grid_search_rf.predict(new_sample1)\n",
    "print(new_sample1, new_output)"
   ]
  },
  {
   "cell_type": "code",
   "execution_count": 114,
   "metadata": {},
   "outputs": [
    {
     "name": "stdout",
     "output_type": "stream",
     "text": [
      "[[5, 1, 1, 0, 0, 0, 1, 2, 2]] [0]\n"
     ]
    }
   ],
   "source": [
    "new_output = rfc.predict(new_sample1)\n",
    "print(new_sample1, new_output)"
   ]
  },
  {
   "cell_type": "code",
   "execution_count": null,
   "metadata": {},
   "outputs": [],
   "source": []
  }
 ],
 "metadata": {
  "kernelspec": {
   "display_name": "Python 3",
   "language": "python",
   "name": "python3"
  },
  "language_info": {
   "codemirror_mode": {
    "name": "ipython",
    "version": 3
   },
   "file_extension": ".py",
   "mimetype": "text/x-python",
   "name": "python",
   "nbconvert_exporter": "python",
   "pygments_lexer": "ipython3",
   "version": "3.7.9"
  }
 },
 "nbformat": 4,
 "nbformat_minor": 4
}
